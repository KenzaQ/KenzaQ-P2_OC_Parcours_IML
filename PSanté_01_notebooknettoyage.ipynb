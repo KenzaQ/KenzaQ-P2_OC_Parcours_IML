{
 "cells": [
  {
   "cell_type": "markdown",
   "metadata": {
    "id": "wmBBtNONRjyD"
   },
   "source": [
    "# PROJET 2 - Concevez une application au service de la santé publique"
   ]
  },
  {
   "cell_type": "markdown",
   "metadata": {
    "id": "uErpb06GKIuS"
   },
   "source": [
    "L'objectif de ce projet est de **concevoir une application au service de la santé publique**.\n",
    "\n",
    "Nous devons utiliser la base de données OpenFoodFacts pour trouver des idées innovantes d’applications en lien avec l'alimentation.\n",
    "\n",
    "OpenFoodFacts (https://world.openfoodfacts.org/) est une base de données citoyenne qui récupère des informations sur les produits de notre alimentation. Cette base de données contient différents champs sur : \n",
    "* les informations générales du produit\n",
    "* un ensemble de tags\n",
    "* des informations diverses\n",
    "* les ingrédients du produit\n",
    "* les informations nutritionnelles du produit\n",
    "\n",
    "Ces données sont disponibles sur https://static.openfoodfacts.org/data/en.openfoodfacts.org.products.csv\n",
    "\n",
    "\n",
    "\n"
   ]
  },
  {
   "cell_type": "markdown",
   "metadata": {
    "id": "Kr4vwfqWTM97"
   },
   "source": [
    "A partir des variables disponibles et utilisables pour l'application, nous pouvons élaborer une idée d'application, à savoir : \n",
    "\n",
    "* Evaluer la qualité des produits alimentaires pour les noter en se basant sur :\n",
    "  * la qualité nutritionnelle du produit donnée par le Nutriscore\n",
    "  * la quantité d'additifs\n",
    "  * le nombre d'allergènes\n",
    "  * le degré de transformation des produits donné par la classification NOVA"
   ]
  },
  {
   "cell_type": "markdown",
   "metadata": {
    "id": "Rs4BHJEE92RM"
   },
   "source": [
    "# **NETTOYAGE DES DONNEES**\n",
    "\n",
    "\n",
    "\n"
   ]
  },
  {
   "cell_type": "markdown",
   "metadata": {
    "id": "vt4erLjb6AFZ"
   },
   "source": [
    "# Importation des librairies"
   ]
  },
  {
   "cell_type": "code",
   "execution_count": 2,
   "metadata": {
    "id": "HiiDwfYHESbD"
   },
   "outputs": [],
   "source": [
    "# coding: utf-8\n",
    "\n",
    "import pandas as pd\n",
    "import matplotlib.pyplot as plt\n",
    "import seaborn as sns\n",
    "import numpy as np\n",
    "from datetime import timedelta, datetime\n",
    "import scipy.stats as st\n",
    "from collections import Counter\n",
    "from pandas.api.types import CategoricalDtype"
   ]
  },
  {
   "cell_type": "markdown",
   "metadata": {
    "id": "oG3io3hj-qov"
   },
   "source": [
    "# Chargement des données"
   ]
  },
  {
   "cell_type": "code",
   "execution_count": null,
   "metadata": {
    "id": "YHRBCfo9VQv4"
   },
   "outputs": [],
   "source": [
    "# data = pd.read_csv('en.openfoodfacts.org.products.csv', sep = \"\\t\", parse_dates=[3,6], low_memory=False)"
   ]
  },
  {
   "cell_type": "markdown",
   "metadata": {
    "id": "OKbNpx_7Eat-"
   },
   "source": [
    "Pour limiter la charge mémoire, on peut créer un dictionnaire des dtypes pour les colonnes qui ont des types mixtes lors du chargement des données"
   ]
  },
  {
   "cell_type": "markdown",
   "metadata": {
    "id": "nHzK6mhU7D2l"
   },
   "source": [
    "# Création d'un dictionnaire des dtypes "
   ]
  },
  {
   "cell_type": "code",
   "execution_count": 3,
   "metadata": {
    "id": "Qk2dq-BFKY_o"
   },
   "outputs": [],
   "source": [
    "## Création d'un dictionnaire avec les types des colonnes (0,8,13,22,23,27,28,29,31,52,64,38,55,132)\n",
    "\n",
    "types_data = {'code': str, 'abbreviated_product_name' : str, 'packaging_text' : str, 'emb_codes' : str, 'emb_codes_tags' : str, 'manufacturing_places_tags' : str, \n",
    "              'manufacturing_places' : str, 'first_packaging_code_geo' : object, 'cities_tags' : str, 'allergens' : str , 'ingredients_from_palm_oil_tags' : str, \n",
    "              'ingredients_that_may_be_from_palm_oil_tags' : str, 'brand_owner' : str, 'alcohol_100g' : float}"
   ]
  },
  {
   "cell_type": "code",
   "execution_count": 4,
   "metadata": {
    "id": "tnQF3FadOjUK"
   },
   "outputs": [],
   "source": [
    "data = pd.read_csv('en.openfoodfacts.org.products.csv', sep = \"\\t\", parse_dates=[3,6], dtype = types_data)"
   ]
  },
  {
   "cell_type": "code",
   "execution_count": null,
   "metadata": {
    "id": "qz0VQCx2d9tf"
   },
   "outputs": [],
   "source": [
    "data.info()"
   ]
  },
  {
   "cell_type": "markdown",
   "metadata": {
    "id": "jPyR5hHAnkKb"
   },
   "source": [
    "# Propriétés générales du jeu de données data"
   ]
  },
  {
   "cell_type": "code",
   "execution_count": null,
   "metadata": {
    "id": "QxluucURNKJ_"
   },
   "outputs": [],
   "source": [
    "print(type(data))"
   ]
  },
  {
   "cell_type": "code",
   "execution_count": null,
   "metadata": {
    "id": "W8b2KgXAZzG2"
   },
   "outputs": [],
   "source": [
    "data.info()"
   ]
  },
  {
   "cell_type": "code",
   "execution_count": null,
   "metadata": {
    "id": "E8IqSsWXlCzc"
   },
   "outputs": [],
   "source": [
    "nb_data_intial = data.shape[0]\n",
    "nb_data_avant = data.shape[0]"
   ]
  },
  {
   "cell_type": "code",
   "execution_count": null,
   "metadata": {
    "id": "0JWVSBTKJ6w8"
   },
   "outputs": [],
   "source": [
    "def info_nettoyage(data):\n",
    "  print(\"Le DataFrame est composé de\", data.shape[0], \"lignes et de\", data.shape[1], \"colonnes.\")\n",
    "  print(int(data.shape[0]/nb_data_intial * 100), '% jeu de données initial.')\n",
    "  print(nb_data_intial - data.shape[0], 'lignes ont été supprimées au total.')\n",
    "  print(nb_data_avant - data.shape[0], 'lignes ont été supprimées suite à ce nettoyage.')\n",
    "  nb_donnees_tot = len(data)*len(data.columns)\n",
    "  donnees_NaN = data.isnull().sum().sum()\n",
    "  donnees_presentes = (nb_donnees_tot - donnees_NaN)/nb_donnees_tot\n",
    "  print('Le DataFrame contient',  int(donnees_presentes * 100), '% de données présentes.')"
   ]
  },
  {
   "cell_type": "code",
   "execution_count": null,
   "metadata": {
    "id": "w17vWksEk6Rq"
   },
   "outputs": [],
   "source": [
    "info_nettoyage(data)"
   ]
  },
  {
   "cell_type": "code",
   "execution_count": null,
   "metadata": {
    "id": "iDQ4F59ZLo3r"
   },
   "outputs": [],
   "source": [
    "print(\"nombre de dimensions de data: \", data.ndim)\n",
    "print(\"forme de data: \", data.shape)\n",
    "print(\"taille de data: \", data.size)"
   ]
  },
  {
   "cell_type": "code",
   "execution_count": null,
   "metadata": {
    "id": "1zqduGYUMUMJ"
   },
   "outputs": [],
   "source": [
    "data.head(5) "
   ]
  },
  {
   "cell_type": "markdown",
   "metadata": {
    "id": "a98MB-UgKChW"
   },
   "source": [
    "Nous avons à notre disposition un jeu de données de 1658499 lignes et de 184 colonnes."
   ]
  },
  {
   "cell_type": "code",
   "execution_count": null,
   "metadata": {
    "id": "eJEcg_Te-2FB"
   },
   "outputs": [],
   "source": [
    "## Graphe du nombre de données manquantes\n",
    "\n",
    "def graphe_donnees_manquantes(data) :\n",
    "  nb_donnees_tot = len(data)*len(data.columns)\n",
    "  donnees_NaN = data.isnull().sum().sum()\n",
    "  donnees_presentes = nb_donnees_tot - donnees_NaN\n",
    "  \n",
    "  x = np.array([donnees_NaN, donnees_presentes])\n",
    "  label = [\"Données manquantes\", \"Données présentes\"]\n",
    "  \n",
    "  plt.pie(x, explode=(0.1, 0), labels=label, colors=['tomato', 'blue'], autopct='%1.1f%%', shadow=True, startangle=90)\n",
    "  plt.title('Diagramme circulaire des données présentes et manquantes')\n",
    "  plt.show()"
   ]
  },
  {
   "cell_type": "code",
   "execution_count": null,
   "metadata": {
    "id": "rS3mPV3v-2FP"
   },
   "outputs": [],
   "source": [
    "graphe_donnees_manquantes(data)"
   ]
  },
  {
   "cell_type": "markdown",
   "metadata": {
    "id": "2ud3DVFvSE4Z"
   },
   "source": [
    "# Suppression des colonnes vides"
   ]
  },
  {
   "cell_type": "code",
   "execution_count": null,
   "metadata": {
    "id": "4IgxeQ1SSJf0"
   },
   "outputs": [],
   "source": [
    "cols_vides = [col for col in data.columns if data[col].isnull().all()]\n",
    "cols_vides"
   ]
  },
  {
   "cell_type": "code",
   "execution_count": null,
   "metadata": {
    "id": "HDssER8MSzCb"
   },
   "outputs": [],
   "source": [
    "data.drop(cols_vides,axis=1,inplace=True)"
   ]
  },
  {
   "cell_type": "code",
   "execution_count": null,
   "metadata": {
    "id": "bClXVnHDkovJ"
   },
   "outputs": [],
   "source": [
    "data = data.dropna(how = 'all')"
   ]
  },
  {
   "cell_type": "code",
   "execution_count": null,
   "metadata": {
    "id": "G-_av7bCkI7B"
   },
   "outputs": [],
   "source": [
    "info_nettoyage(data)"
   ]
  },
  {
   "cell_type": "code",
   "execution_count": null,
   "metadata": {
    "id": "Ik6COgs4EgBz"
   },
   "outputs": [],
   "source": [
    "graphe_donnees_manquantes(data)"
   ]
  },
  {
   "cell_type": "markdown",
   "metadata": {
    "id": "U73P8ooTneBN"
   },
   "source": [
    "# Suppression des lignes avec des erreurs dans les informations nutritionnelles"
   ]
  },
  {
   "cell_type": "code",
   "execution_count": null,
   "metadata": {
    "id": "aTQnohhxykCS"
   },
   "outputs": [],
   "source": [
    "list(data.columns)"
   ]
  },
  {
   "cell_type": "markdown",
   "metadata": {
    "id": "JcEf9X25xBCJ"
   },
   "source": [
    "## Ingrédients >100 ou <0"
   ]
  },
  {
   "cell_type": "code",
   "execution_count": null,
   "metadata": {
    "id": "S2z6nMPepDmS"
   },
   "outputs": [],
   "source": [
    "colonnes_compo_100g = [x for x in list(data.columns) if (x.endswith('_100g') and x not in (['energy-kj_100g', 'energy-kcal_100g', 'energy_100g', 'energy-from-fat_100g', 'nutrition-score-fr_100g', 'nutrition_score_uk_100g', 'ph_100g', 'glycemic-index_100g']))]\n",
    "colonnes_compo_100g"
   ]
  },
  {
   "cell_type": "code",
   "execution_count": null,
   "metadata": {
    "id": "hd-oyEBU6opN"
   },
   "outputs": [],
   "source": [
    "data[colonnes_compo_100g] = data[colonnes_compo_100g].astype(float)"
   ]
  },
  {
   "cell_type": "code",
   "execution_count": null,
   "metadata": {
    "id": "5aeV4wvH8XCb"
   },
   "outputs": [],
   "source": [
    "## Supprimer les lignes où une donnée dans les colonnes des informations nutritionnelles est négative et est supérieure à 100 (ici garder toutes les lignes où la valeur n'est pas inférieure à 0)\n",
    "\n",
    "data = data[(np.invert(data[colonnes_compo_100g] > 100)).all(axis=1)]\n",
    "data = data[(np.invert(data[colonnes_compo_100g] < 0)).all(axis=1)]"
   ]
  },
  {
   "cell_type": "code",
   "execution_count": null,
   "metadata": {
    "id": "xlPeVGPfcabC"
   },
   "outputs": [],
   "source": [
    "data[colonnes_compo_100g].describe(include='all')"
   ]
  },
  {
   "cell_type": "code",
   "execution_count": null,
   "metadata": {
    "id": "Oe1aeYbDkpZ1"
   },
   "outputs": [],
   "source": [
    "info_nettoyage(data)"
   ]
  },
  {
   "cell_type": "code",
   "execution_count": null,
   "metadata": {
    "id": "KwOC6GaME9Dl"
   },
   "outputs": [],
   "source": [
    "graphe_donnees_manquantes(data)"
   ]
  },
  {
   "cell_type": "markdown",
   "metadata": {
    "id": "asYrHunZxOOQ"
   },
   "source": [
    "## pH non compris entre 1 et 14"
   ]
  },
  {
   "cell_type": "code",
   "execution_count": null,
   "metadata": {
    "id": "KDt-9clbx_Ek"
   },
   "outputs": [],
   "source": [
    "data['ph_100g'] = data['ph_100g'].astype(float)\n",
    "nb_data_avant = data.shape[0]"
   ]
  },
  {
   "cell_type": "code",
   "execution_count": null,
   "metadata": {
    "id": "BDXmTFp-xWQR"
   },
   "outputs": [],
   "source": [
    "data = data[(np.invert(data[['ph_100g']] < 1)).all(axis=1)]\n",
    "data = data[(np.invert(data[['ph_100g']] > 14)).all(axis=1)]"
   ]
  },
  {
   "cell_type": "code",
   "execution_count": null,
   "metadata": {
    "id": "Xg6tTYmDlyU6"
   },
   "outputs": [],
   "source": [
    "info_nettoyage(data)"
   ]
  },
  {
   "cell_type": "code",
   "execution_count": null,
   "metadata": {
    "id": "F4qsVqzRE-24"
   },
   "outputs": [],
   "source": [
    "graphe_donnees_manquantes(data)"
   ]
  },
  {
   "cell_type": "markdown",
   "metadata": {
    "id": "x5F3bnpUzoeB"
   },
   "source": [
    "## Energie et indice de glycémie < 0"
   ]
  },
  {
   "cell_type": "code",
   "execution_count": null,
   "metadata": {
    "id": "6UpkGFwomd8u"
   },
   "outputs": [],
   "source": [
    "nb_data_avant = data.shape[0]"
   ]
  },
  {
   "cell_type": "code",
   "execution_count": null,
   "metadata": {
    "id": "9tsFzmWizouD"
   },
   "outputs": [],
   "source": [
    "var_energie = ['energy-kj_100g', 'energy-kcal_100g', 'energy_100g', 'energy-from-fat_100g']\n",
    "data = data[(np.invert(data[var_energie] < 0)).all(axis=1)]"
   ]
  },
  {
   "cell_type": "code",
   "execution_count": null,
   "metadata": {
    "id": "bil81wAxlA3u"
   },
   "outputs": [],
   "source": [
    "data = data[(np.invert(data[['glycemic-index_100g']] < 0)).all(axis=1)]\n",
    "data = data[(np.invert(data[['glycemic-index_100g']] > 100)).all(axis=1)]"
   ]
  },
  {
   "cell_type": "code",
   "execution_count": null,
   "metadata": {
    "id": "yD2tKbTDmiy6"
   },
   "outputs": [],
   "source": [
    "info_nettoyage(data)"
   ]
  },
  {
   "cell_type": "code",
   "execution_count": null,
   "metadata": {
    "id": "NWznm4hEFAru"
   },
   "outputs": [],
   "source": [
    "graphe_donnees_manquantes(data)"
   ]
  },
  {
   "cell_type": "markdown",
   "metadata": {
    "id": "EPwZerEqxJOw"
   },
   "source": [
    "## Ingrédients dont la somme totale >100"
   ]
  },
  {
   "cell_type": "markdown",
   "metadata": {
    "id": "EwhfJA9xdAR4"
   },
   "source": [
    "### Choix des variables "
   ]
  },
  {
   "cell_type": "markdown",
   "metadata": {
    "id": "Kn0wGWyESqdr"
   },
   "source": [
    "La composition en nutriments de chaque produit est basée sur 100g. On peut donc supprimer les produits dont la somme totale des nutriments dépasse cette limite. \n",
    "\n",
    "Cependant, plusieurs nutriments se confondent dans la composition des produits tels que les glucides avec les sucres ou les lipides avec les acides gras saturés.\n",
    "\n",
    "On doit donc choisir entre des groupes de nutriments quelle variable utilisée."
   ]
  },
  {
   "cell_type": "code",
   "execution_count": null,
   "metadata": {
    "id": "GzyEZLB1LICh"
   },
   "outputs": [],
   "source": [
    "acides_gras = ['fat_100g',  'saturated-fat_100g', 'monounsaturated-fat_100g', 'polyunsaturated-fat_100g',  'omega-3-fat_100g', 'omega-6-fat_100g', 'omega-9-fat_100g', 'trans-fat_100g', 'cholesterol_100g']\n",
    "glucides = ['carbohydrates_100g','sugars_100g', '-sucrose_100g', '-glucose_100g', '-fructose_100g', '-lactose_100g', '-maltose_100g', '-maltodextrins_100g', 'starch_100g', 'polyols_100g']\n",
    "sel = ['salt_100g', 'sodium_100g']\n",
    "fibres = ['fiber_100g', '-soluble-fiber_100g', '-insoluble-fiber_100g']\n",
    "proteines = ['proteins_100g', 'casein_100g', 'serum-proteins_100g']\n",
    "fruits_legumes = ['fruits-vegetables-nuts_100g', 'fruits-vegetables-nuts-dried_100g', 'fruits-vegetables-nuts-estimate_100g']"
   ]
  },
  {
   "cell_type": "markdown",
   "metadata": {
    "id": "GyaUzaRlZ0ea"
   },
   "source": [
    "Pour éviter de surestimer la somme totale des nutriments, on prend en compte les nutriments utilisés dans le Nutriscore qui est basé sur :\n",
    "* l’énergie, les acides gras saturés, les sucres simples et le sel\n",
    "* les fibres, les protéines, les fruits et légumes, les légumineuses et fruits à coque\n",
    "\n",
    "Pour savoir parmi toutes ces variables lesquelles sont impliquées dans le calcul du Nutriscore, on peut faire un sous-échantillon du jeu de données et recalculer un Nutriscore avec les variables à choisir pour la somme totale"
   ]
  },
  {
   "cell_type": "code",
   "execution_count": null,
   "metadata": {
    "id": "MlZi-tks1TAz"
   },
   "outputs": [],
   "source": [
    "## Attribution des points en fonction de la valeur du nutriment \n",
    "\n",
    "def energie(x, df):\n",
    "  if x <= 335:\n",
    "    E = 0\n",
    "  else :\n",
    "    E = df.loc[df['energie']==max((df[df['energie'] < x])['energie'])].index[0]\n",
    "  return E\n",
    "\n",
    "def sucres(x, df):\n",
    "  if x == 0:\n",
    "    S = 0\n",
    "  else :\n",
    "    S = df.loc[df['sucres']==max((df[df['sucres'] < x])['sucres'])].index[0] + 1\n",
    "  return S\n",
    "\n",
    "def graisses(x, df):\n",
    "  if x <= 1:\n",
    "    G = 0\n",
    "  else :\n",
    "    G = df.loc[df['graisses']==max((df[df['graisses'] < x])['graisses'])].index[0]\n",
    "  return G\n",
    "\n",
    "def sodium(x, df):\n",
    "  if x <= 90:\n",
    "    So = 0\n",
    "  else :\n",
    "    So = df.loc[df['sodium']==max((df[df['sodium'] < x])['sodium'])].index[0]\n",
    "  return So\n",
    "\n",
    "def fruits_legumes(x, df):\n",
    "  if x <= 40:\n",
    "    FL = 0\n",
    "  else :\n",
    "    FL = df.loc[df['fruits_legumes']==max((df[df['fruits_legumes'] < x])['fruits_legumes'])].index[0]\n",
    "  return FL\n",
    "\n",
    "def fibres(x, df):\n",
    "  if x <= 0.7:\n",
    "    F = 0\n",
    "  else :\n",
    "    F = df.loc[df['fibres']==max((df[df['fibres'] < x])['fibres'])].index[0]\n",
    "  return F\n",
    "\n",
    "def proteines(x, df):\n",
    "  if x <= 1.6:\n",
    "    Pr = 0\n",
    "  else :\n",
    "    Pr = df.loc[df['proteines']==max((df[df['proteines'] < x])['proteines'])].index[0]\n",
    "  return Pr"
   ]
  },
  {
   "cell_type": "code",
   "execution_count": null,
   "metadata": {
    "id": "QrWxBM2siBk8"
   },
   "outputs": [],
   "source": [
    "## Tableau des différents seuils des facteurs nutritionnels\n",
    "\n",
    "df = pd.DataFrame({'energie': [0, 335, 670, 1005, 1340, 1675, 2010, 2345, 2680, 3015, 3350], \n",
    "                   'sucres': [0, 1.5, 3, 4.5, 6, 7.5, 9, 10.5, 12, 13.5, 100],\n",
    "                   'graisses' : [0, 1, 2, 3, 4, 5, 6, 7, 8, 9, 10],\n",
    "                   'sodium' : [0, 90, 180, 270, 360, 450, 540, 630, 720, 810, 900],\n",
    "                   'fruits_legumes' : [0, 40, 60, np.nan, np.nan, 80, np.nan, np.nan, np.nan, np.nan, np.nan], \n",
    "                   'fibres' : [0, 0.7, 1.4, 2.1, 2.8, 3.5, np.nan, np.nan, np.nan, np.nan, np.nan],\n",
    "                   'proteines' : [0, 1.6, 3.2, 4.8, 6.4, 8, np.nan, np.nan, np.nan, np.nan, np.nan]})"
   ]
  },
  {
   "cell_type": "code",
   "execution_count": null,
   "metadata": {
    "id": "PuCCex-t0c73"
   },
   "outputs": [],
   "source": [
    "## Calcul du Nutri-score à partir de la valeur des nutriments\n",
    "\n",
    "def nutri(subset):\n",
    "  Nutri = []\n",
    "  for i in range(len(subset)):\n",
    "    x = list(subset.iloc[i]) ## subset dans l'ordre energie, sucres, graisses saturées, sodium\n",
    "    N = energie(x[1], df) + graisses(x[2], df) + sucres(x[3], df) + sodium(x[4], df)\n",
    "    P = fibres(x[5], df) + proteines(x[6], df) + fruits_legumes(x[7], df)\n",
    "    if N >= 11:\n",
    "      if fruits_legumes(x[7], df) == 5:\n",
    "        Nutri.append(N - P)\n",
    "      else :\n",
    "        Nutri.append(N - (fibres(x[5], df) + fruits_legumes(x[7], df)))\n",
    "    else:\n",
    "      Nutri.append(N - P)\n",
    "  return Nutri"
   ]
  },
  {
   "cell_type": "markdown",
   "metadata": {
    "id": "wsUgFFZR7Kcs"
   },
   "source": [
    "D'après le calcul du Nutriscore (https://world.openfoodfacts.org/nutriscore), les boisssons et le fromage sont des cas particuliers lors du calcul. Pour plus de facilité dans le calcul, on n'utilise qu'un échantillon sans donnée manquante ne comportant ni fromage, ni boisson."
   ]
  },
  {
   "cell_type": "code",
   "execution_count": null,
   "metadata": {
    "id": "PzgfSh94iv4n"
   },
   "outputs": [],
   "source": [
    "## Cas 1 : Entre 'saturated-fat_100g' et 'fat_100g'\n",
    "\n",
    "subset1 = data[['nutrition-score-fr_100g', 'energy-kj_100g', 'saturated-fat_100g', 'sugars_100g', 'salt_100g','fiber_100g', 'proteins_100g', 'fruits-vegetables-nuts-estimate_100g', 'pnns_groups_1', 'pnns_groups_2']].dropna()\n",
    "subset1 = subset1[(np.invert(subset1[['pnns_groups_1']] == 'Beverages')).all(axis=1)]\n",
    "subset1 = subset1[(np.invert(subset1[['pnns_groups_1']] == 'unknown')).all(axis=1)]\n",
    "subset1 = subset1[(np.invert(subset1[['pnns_groups_2']] == 'Cheese')).all(axis=1)]\n",
    "subset1['nutri_cal'] = nutri(subset1)\n",
    "subset1[[\"nutrition-score-fr_100g\", \"nutri_cal\"]] = subset1[[\"nutrition-score-fr_100g\", \"nutri_cal\"]].astype('int64')\n",
    "print('Cas 1')\n",
    "print('Avec saturated-fat_100g :',st.pearsonr(subset1['nutrition-score-fr_100g'],subset1['nutri_cal'])[0])\n",
    "\n",
    "subset = data[['nutrition-score-fr_100g', 'energy-kj_100g', 'fat_100g', 'sugars_100g', 'salt_100g','fiber_100g', 'proteins_100g', 'fruits-vegetables-nuts-estimate_100g', 'pnns_groups_1', 'pnns_groups_2']].dropna()\n",
    "subset = subset[(np.invert(subset[['pnns_groups_1']] == 'Beverages')).all(axis=1)]\n",
    "subset = subset[(np.invert(subset[['pnns_groups_1']] == 'unknown')).all(axis=1)]\n",
    "subset = subset[(np.invert(subset[['pnns_groups_2']] == 'Cheese')).all(axis=1)]\n",
    "subset['nutri_cal'] = nutri(subset)\n",
    "subset[[\"nutrition-score-fr_100g\", \"nutri_cal\"]] = subset[[\"nutrition-score-fr_100g\", \"nutri_cal\"]].astype('int64')\n",
    "print('Avec fat_100g :',st.pearsonr(subset['nutrition-score-fr_100g'],subset['nutri_cal'])[0])\n",
    "\n",
    "## Cas 2 : 'sugars_100g' et 'carbohydrates_100g'\n",
    "\n",
    "subset = data[['nutrition-score-fr_100g', 'energy-kj_100g', 'saturated-fat_100g', 'carbohydrates_100g', 'salt_100g','fiber_100g', 'proteins_100g', 'fruits-vegetables-nuts-estimate_100g', 'pnns_groups_1', 'pnns_groups_2']].dropna()\n",
    "subset = subset[(np.invert(subset[['pnns_groups_1']] == 'Beverages')).all(axis=1)]\n",
    "subset = subset[(np.invert(subset[['pnns_groups_1']] == 'unknown')).all(axis=1)]\n",
    "subset = subset[(np.invert(subset[['pnns_groups_2']] == 'Cheese')).all(axis=1)]\n",
    "subset['nutri_cal'] = nutri(subset)\n",
    "subset[[\"nutrition-score-fr_100g\", \"nutri_cal\"]] = subset[[\"nutrition-score-fr_100g\", \"nutri_cal\"]].astype('int64')\n",
    "print('Cas 2')\n",
    "print('Avec carbohydrates_100g :',st.pearsonr(subset['nutrition-score-fr_100g'],subset['nutri_cal'])[0])\n",
    "\n",
    "## Cas 3 : 'salt_100g' et 'sodium_100g'\n",
    "\n",
    "subset = data[['nutrition-score-fr_100g', 'energy-kj_100g', 'saturated-fat_100g', 'sugars_100g', 'sodium_100g','fiber_100g', 'proteins_100g', 'fruits-vegetables-nuts-estimate_100g', 'pnns_groups_1', 'pnns_groups_2']].dropna()\n",
    "subset = subset[(np.invert(subset[['pnns_groups_1']] == 'Beverages')).all(axis=1)]\n",
    "subset = subset[(np.invert(subset[['pnns_groups_1']] == 'unknown')).all(axis=1)]\n",
    "subset = subset[(np.invert(subset[['pnns_groups_2']] == 'Cheese')).all(axis=1)]\n",
    "subset['nutri_cal'] = nutri(subset)\n",
    "subset[[\"nutrition-score-fr_100g\", \"nutri_cal\"]] = subset[[\"nutrition-score-fr_100g\", \"nutri_cal\"]].astype('int64')\n",
    "print('Cas 3')\n",
    "print('Avec sodium_100g :',st.pearsonr(subset['nutrition-score-fr_100g'],subset['nutri_cal'])[0])\n",
    "\n",
    "## Cas 4 : 'fruits-vegetables-nuts_100g', 'fruits-vegetables-nuts-dried_100g' et 'fruits-vegetables-nuts-estimate_100g']\n",
    "\n",
    "subset = data[['nutrition-score-fr_100g', 'energy-kj_100g', 'saturated-fat_100g', 'sugars_100g', 'salt_100g','fiber_100g', 'proteins_100g', 'fruits-vegetables-nuts_100g', 'pnns_groups_1', 'pnns_groups_2']].dropna()\n",
    "subset = subset[(np.invert(subset[['pnns_groups_1']] == 'Beverages')).all(axis=1)]\n",
    "subset = subset[(np.invert(subset[['pnns_groups_1']] == 'unknown')).all(axis=1)]\n",
    "subset = subset[(np.invert(subset[['pnns_groups_2']] == 'Cheese')).all(axis=1)]\n",
    "subset['nutri_cal'] = nutri(subset)\n",
    "subset[[\"nutrition-score-fr_100g\", \"nutri_cal\"]] = subset[[\"nutrition-score-fr_100g\", \"nutri_cal\"]].astype('int64')\n",
    "print('Cas 4')\n",
    "print('Avec fruits-vegetables-nuts_100g :',st.pearsonr(subset['nutrition-score-fr_100g'],subset['nutri_cal'])[0])\n",
    "\n",
    "subset = data[['nutrition-score-fr_100g', 'energy-kj_100g', 'saturated-fat_100g', 'sugars_100g', 'salt_100g','fiber_100g', 'proteins_100g', 'fruits-vegetables-nuts-dried_100g', 'pnns_groups_1', 'pnns_groups_2']].dropna()\n",
    "subset = subset[(np.invert(subset[['pnns_groups_1']] == 'Beverages')).all(axis=1)]\n",
    "subset = subset[(np.invert(subset[['pnns_groups_1']] == 'unknown')).all(axis=1)]\n",
    "subset = subset[(np.invert(subset[['pnns_groups_2']] == 'Cheese')).all(axis=1)]\n",
    "subset['nutri_cal'] = nutri(subset)\n",
    "subset[[\"nutrition-score-fr_100g\", \"nutri_cal\"]] = subset[[\"nutrition-score-fr_100g\", \"nutri_cal\"]].astype('int64')\n",
    "print('Avec fruits-vegetables-nuts-dried_100g :',st.pearsonr(subset['nutrition-score-fr_100g'],subset['nutri_cal'])[0])"
   ]
  },
  {
   "cell_type": "markdown",
   "metadata": {
    "id": "-B9NdfE5SkiW"
   },
   "source": [
    "D'après les résultats du calcul du coefficient de Pearson, la plus forte corrélation se fait avec les variables : 'saturated-fat_100g', 'sugars_100g', 'salt_100g','fiber_100g', 'proteins_100g', 'fruits-vegetables-nuts-estimate_100g'\n",
    "\n"
   ]
  },
  {
   "cell_type": "code",
   "execution_count": null,
   "metadata": {
    "id": "NeMfH5L_Sj_i"
   },
   "outputs": [],
   "source": [
    "print(subset1.columns)"
   ]
  },
  {
   "cell_type": "code",
   "execution_count": null,
   "metadata": {
    "id": "XP1QBuQcJW4C"
   },
   "outputs": [],
   "source": [
    "plt.figure(1,figsize=(15,10))\n",
    "plt.gcf().subplots_adjust(left = 0.125, bottom = 0.2, right = 1.5,\n",
    "                          top = 0.9, wspace = 0.2, hspace = 0.6)\n",
    "\n",
    "plt.subplot(1,2,1)\n",
    "subset1[\"nutrition-score-fr_100g\"].hist(legend=\"nutrition-score-fr_100g\")\n",
    "\n",
    "plt.subplot(1,2,2)\n",
    "subset1[\"nutri_cal\"].hist(legend=\"nutri_cal\")\n",
    "\n",
    "plt.show()"
   ]
  },
  {
   "cell_type": "code",
   "execution_count": null,
   "metadata": {
    "id": "dYTrZ9V20dEI"
   },
   "outputs": [],
   "source": [
    "st.pearsonr(subset1['nutrition-score-fr_100g'],subset1['nutri_cal'])[0]"
   ]
  },
  {
   "cell_type": "markdown",
   "metadata": {
    "id": "WoUoi2N2fnsx"
   },
   "source": [
    "On obtient un coefficient de Pearson proche de 0.9, ce qui laisse à pense qu'il y a effectivement une corrélation entre ces 2 variables (comme ce que l'on peut observer sur les 2 histogrammes)."
   ]
  },
  {
   "cell_type": "code",
   "execution_count": null,
   "metadata": {
    "id": "TE70nDSbYQFG"
   },
   "outputs": [],
   "source": [
    "taille_classe = 4\n",
    "groupes = []\n",
    "\n",
    "subset1[[\"nutrition-score-fr_100g\", \"nutri_cal\"]] = subset1[[\"nutrition-score-fr_100g\", \"nutri_cal\"]].astype(float)\n",
    "\n",
    "tranches = np.arange(0, max(subset1[\"nutrition-score-fr_100g\"]), taille_classe)\n",
    "tranches += taille_classe/2\n",
    "indices = np.digitize(subset1[\"nutrition-score-fr_100g\"], tranches) \n",
    "\n",
    "for ind, tr in enumerate(tranches):\n",
    "    nutri_cal = subset1.loc[indices==ind,\"nutri_cal\"] \n",
    "    if len(nutri_cal) > 0:\n",
    "        g = {\n",
    "            'valeurs': nutri_cal,\n",
    "            'centre_classe': tr-(taille_classe/2),\n",
    "            'taille': len(nutri_cal),\n",
    "            'quartiles': [np.percentile(nutri_cal,p) for p in [25,50,75]]\n",
    "        }\n",
    "        groupes.append(g)\n",
    "\n",
    "# affichage des boxplots\n",
    "plt.boxplot([g[\"valeurs\"] for g in groupes],\n",
    "            positions= [g[\"centre_classe\"] for g in groupes], \n",
    "            showfliers= False,\n",
    "            widths= taille_classe*0.7,\n",
    ")\n",
    "plt.xlabel(\"nutrition-score-fr_100g\")\n",
    "plt.ylabel(\"nutri_cal\")\n",
    "plt.title(\"Boxplot des agrégats\")\n",
    "\n",
    "# affichage des effectifs de chaque classe\n",
    "for g in groupes:\n",
    "    plt.text(g[\"centre_classe\"],0,\"(n={})\".format(g[\"taille\"]),horizontalalignment='center',verticalalignment='top')     \n",
    "plt.show()\n",
    "\n",
    "# affichage des quartiles\n",
    "for n_quartile in range(3):\n",
    "    plt.plot([g[\"centre_classe\"] for g in groupes],\n",
    "             [g[\"quartiles\"][n_quartile] for g in groupes])\n",
    "plt.xlabel(\"nutrition-score-fr_100g\")\n",
    "plt.ylabel(\"nutri_cal\")\n",
    "plt.title(\"Plot des agrégats\")\n",
    "plt.show()"
   ]
  },
  {
   "cell_type": "code",
   "execution_count": null,
   "metadata": {
    "id": "r73eF97Dp_6h"
   },
   "outputs": [],
   "source": [
    "del subset\n",
    "del subset1"
   ]
  },
  {
   "cell_type": "markdown",
   "metadata": {
    "id": "wQeA3uxpdFO2"
   },
   "source": [
    "### Suppression des lignes"
   ]
  },
  {
   "cell_type": "code",
   "execution_count": null,
   "metadata": {
    "id": "CvWstXKTaUNt"
   },
   "outputs": [],
   "source": [
    "nutriments = ['saturated-fat_100g', 'sugars_100g', 'salt_100g', 'fiber_100g', 'proteins_100g','fruits-vegetables-nuts-estimate_100g']"
   ]
  },
  {
   "cell_type": "code",
   "execution_count": null,
   "metadata": {
    "id": "VoFVjt6haUP9"
   },
   "outputs": [],
   "source": [
    "df_small = data[nutriments]\n",
    "df_small = df_small.dropna(how = 'all')\n",
    "correlation_mat = df_small.corr()\n",
    "mask = np.zeros_like(correlation_mat)\n",
    "mask[np.triu_indices_from(mask)] = True\n",
    "plt. figure(figsize = (20, 10)) \n",
    "sns.heatmap(correlation_mat, mask = mask, annot = True)\n",
    "plt.title('Matrice des corrélations')\n",
    "plt.show()"
   ]
  },
  {
   "cell_type": "markdown",
   "metadata": {
    "id": "8SfjmP6tdrAL"
   },
   "source": [
    "Ces variables sont très peu corrélées (plus grande corrélation à -0.3 entre 'fruits-vegetables-nuts-estimate_100g' et 'saturated-fat_100g')"
   ]
  },
  {
   "cell_type": "code",
   "execution_count": null,
   "metadata": {
    "id": "ThRgm_zr1y6p"
   },
   "outputs": [],
   "source": [
    "data[nutriments].describe(include='all')"
   ]
  },
  {
   "cell_type": "code",
   "execution_count": null,
   "metadata": {
    "id": "w9w8KuMMbXK9"
   },
   "outputs": [],
   "source": [
    "data['tot_compo'] = data[nutriments].sum(axis = 1)\n",
    "data.head(5)"
   ]
  },
  {
   "cell_type": "code",
   "execution_count": null,
   "metadata": {
    "id": "J9CEshEmbXLI"
   },
   "outputs": [],
   "source": [
    "nb_data_avant = data.shape[0]"
   ]
  },
  {
   "cell_type": "code",
   "execution_count": null,
   "metadata": {
    "id": "Hkta7g57bXLI"
   },
   "outputs": [],
   "source": [
    "## Si somme colonnes > 100 -> supprimer ligne\n",
    "data.drop(data[data['tot_compo'] >100 ].index, axis=0, inplace=True) # supprimer lignes dont la composition dépasse 100g"
   ]
  },
  {
   "cell_type": "code",
   "execution_count": null,
   "metadata": {
    "id": "kn-nh9rtS7Xw"
   },
   "outputs": [],
   "source": [
    "data.drop(['tot_compo'], axis = 1, inplace = True)"
   ]
  },
  {
   "cell_type": "code",
   "execution_count": null,
   "metadata": {
    "id": "7Ay_GecznCTQ"
   },
   "outputs": [],
   "source": [
    "data = data.dropna(how = 'all') "
   ]
  },
  {
   "cell_type": "code",
   "execution_count": null,
   "metadata": {
    "id": "MKMNdldPm7U0"
   },
   "outputs": [],
   "source": [
    "info_nettoyage(data)"
   ]
  },
  {
   "cell_type": "markdown",
   "metadata": {
    "id": "DkvJ-UHknjha"
   },
   "source": [
    "# Choix entre countries, countries_tags et countries_en"
   ]
  },
  {
   "cell_type": "code",
   "execution_count": null,
   "metadata": {
    "id": "6q28DRXrnfQD"
   },
   "outputs": [],
   "source": [
    "nb_data_avant = data.shape[0]"
   ]
  },
  {
   "cell_type": "code",
   "execution_count": null,
   "metadata": {
    "id": "oz_X20NAtAnP"
   },
   "outputs": [],
   "source": [
    "data[['countries', 'countries_tags', 'countries_en']].head(12)"
   ]
  },
  {
   "cell_type": "code",
   "execution_count": null,
   "metadata": {
    "id": "PSLk6y2Bt6J1"
   },
   "outputs": [],
   "source": [
    "data['countries'].unique()"
   ]
  },
  {
   "cell_type": "code",
   "execution_count": null,
   "metadata": {
    "id": "Ys4a4xLVt6NY"
   },
   "outputs": [],
   "source": [
    "data['countries_tags'].unique()"
   ]
  },
  {
   "cell_type": "code",
   "execution_count": null,
   "metadata": {
    "id": "reJW75uZtovB"
   },
   "outputs": [],
   "source": [
    "data['countries_en'].unique()"
   ]
  },
  {
   "cell_type": "markdown",
   "metadata": {
    "id": "XOY3hivNuAp5"
   },
   "source": [
    "Les variables 'countries' et 'countries_en' ne sont pas mises en forme. On ne garde que la variable 'countries_tags'"
   ]
  },
  {
   "cell_type": "code",
   "execution_count": null,
   "metadata": {
    "id": "mAL42523uKz0"
   },
   "outputs": [],
   "source": [
    "data.drop(['countries_en'], axis = 1, inplace = True)\n",
    "data.drop(['countries'], axis = 1, inplace = True)"
   ]
  },
  {
   "cell_type": "markdown",
   "metadata": {
    "id": "9TXpMYP-kc6R"
   },
   "source": [
    "## Sélection du pays d'étude"
   ]
  },
  {
   "cell_type": "code",
   "execution_count": null,
   "metadata": {
    "id": "pGUsoiZKpqTw"
   },
   "outputs": [],
   "source": [
    "data['countries_tags'] = data['countries_tags'].astype('category')"
   ]
  },
  {
   "cell_type": "code",
   "execution_count": null,
   "metadata": {
    "id": "DNtegBwyw2LO"
   },
   "outputs": [],
   "source": [
    "len(data['countries_tags'].unique())"
   ]
  },
  {
   "cell_type": "code",
   "execution_count": null,
   "metadata": {
    "id": "m5yZKueuuheu"
   },
   "outputs": [],
   "source": [
    "data['countries_tags'].count()"
   ]
  },
  {
   "cell_type": "code",
   "execution_count": null,
   "metadata": {
    "id": "OmlxXV_PyCRT"
   },
   "outputs": [],
   "source": [
    "def most_common_words(labels):\n",
    "    words = []\n",
    "    for lab in labels:\n",
    "        words += lab.split(\",\")\n",
    "    counter = Counter(words)\n",
    "    for word in counter.most_common():\n",
    "        print(word)\n",
    "\n",
    "most_common_words(data['countries_tags'].dropna().values)"
   ]
  },
  {
   "cell_type": "markdown",
   "metadata": {
    "id": "wvGo7EgdG4aP"
   },
   "source": [
    "Les produits venant de France sont les plus représentatifs dans le DataFrame.\n",
    "\n",
    "La France apparait 761 141 fois, soit plus du double du 2e pays qui sont les Etats-Unis qui apparaissent 346 703 fois.\n",
    "\n",
    "On sélectionne pour l'application uniquement les produits vendus en France."
   ]
  },
  {
   "cell_type": "code",
   "execution_count": null,
   "metadata": {
    "id": "Ii6PdsW22SVa"
   },
   "outputs": [],
   "source": [
    "liste_pays = ['en:france', 'fr:francia', 'en:francia', 'en:frankreich', 'en:frankreich', 'en:france-francais', 'fr:frankreich', 'fr:frankrijk', 'fr:franca', 'ca:franca', \n",
    "              'de:francia', 'pt:francia', 'en:frankrijk', 'fr:francja', 'es:franca', 'en:francja', 'it:frankreich', 'en:franța', 'es:frankrijk', 'fr:francie', 'fr:γαλλία', \n",
    "              'fr:فرنسا', 'fr:frankrike', 'de:francja', 'en:franca', 'fr:francija', 'en:franciaorszag', 'es:fransa']\n",
    "\n",
    "pattern = '|'.join(liste_pays)\n",
    "\n",
    "data1 = data.loc[data['countries_tags'].str.contains(pattern, na=False, case=False)]"
   ]
  },
  {
   "cell_type": "code",
   "execution_count": null,
   "metadata": {
    "id": "Hiaw3K7ULLcA"
   },
   "outputs": [],
   "source": [
    "data1.drop(['countries_tags'], axis = 1, inplace = True)"
   ]
  },
  {
   "cell_type": "code",
   "execution_count": null,
   "metadata": {
    "id": "BSyjcKXzw7M7"
   },
   "outputs": [],
   "source": [
    "data1 = data1.dropna(how = 'all')"
   ]
  },
  {
   "cell_type": "code",
   "execution_count": null,
   "metadata": {
    "id": "_xW5AzZonhX5"
   },
   "outputs": [],
   "source": [
    "info_nettoyage(data1)"
   ]
  },
  {
   "cell_type": "markdown",
   "metadata": {
    "id": "4fHUYpYJNFel"
   },
   "source": [
    "# Choix des variables"
   ]
  },
  {
   "cell_type": "code",
   "execution_count": null,
   "metadata": {
    "id": "YO0TKihso7PG"
   },
   "outputs": [],
   "source": [
    "nb_data_avant_1 = data1.shape[0]"
   ]
  },
  {
   "cell_type": "markdown",
   "metadata": {
    "id": "gpS2SGwgUzsu"
   },
   "source": [
    "Dans ce jeu de données, on a beaucoup de variables (172 colonnes).\n",
    "\n",
    "Une première sélection est de traiter les colonnes utiles qui se rapportent à la même information. Il faut donc choisir entre les variables en double parmi les variables utiles pour l'application (les variables non utilisées ne seront pas traitées)."
   ]
  },
  {
   "cell_type": "markdown",
   "metadata": {
    "id": "OFHZ8-T-Lqke"
   },
   "source": [
    "## Sélection des variables utiles pour l'application"
   ]
  },
  {
   "cell_type": "code",
   "execution_count": null,
   "metadata": {
    "id": "8PXLIi0ZLqk3"
   },
   "outputs": [],
   "source": [
    "list(data1.columns)"
   ]
  },
  {
   "cell_type": "markdown",
   "metadata": {
    "id": "N3ABEhBULqk6"
   },
   "source": [
    "On sélectionne les variables pertinentes et utiles pour l'idée d'application présentée : \n",
    "* informations générales = 'code', 'url', 'created_t', 'created_datetime', 'last_modified_t', 'last_modified_datetime', 'product_name'\n",
    "* informations sur la qualité nutritionnelle = 'nutriscore_grade', 'nutrition-score-fr_100g', 'nutriscore_score'\n",
    "* colonnes finissant par '_100g'\n",
    "* informations sur le produit = 'additives_n', 'allergens', 'nova_group', 'pnns_groups_1', 'pnns_groups_2',\n",
    "\n",
    "Cette liste peut être ammenée à changer"
   ]
  },
  {
   "cell_type": "code",
   "execution_count": null,
   "metadata": {
    "id": "GRrP1bBjLqk7"
   },
   "outputs": [],
   "source": [
    "## sélectionner toutes les variables dans tous les formats qui répondent au projet, qui sont pertinentes au projet\n",
    "\n",
    "colonnes_utiles = ['code', 'url', 'created_t', 'created_datetime', 'last_modified_t', 'last_modified_datetime', 'product_name', \n",
    "                   'nutriscore_grade', 'nutrition-score-fr_100g', 'nutriscore_score',\n",
    "                   'additives_n', \n",
    "                   'allergens'\n",
    "                   'nova_group', \n",
    "                   'pnns_groups_1', 'pnns_groups_2']\n",
    "\n",
    "toutes_colonnes_compo_100g = [x for x in list(data1.columns) if (x.endswith('_100g') and x not in (['nutrition-score-fr_100g', 'nutrition_score_uk_100g']))]\n",
    "\n",
    "colonnes_utiles = colonnes_utiles + toutes_colonnes_compo_100g"
   ]
  },
  {
   "cell_type": "markdown",
   "metadata": {
    "id": "W92TOYSOVMbg"
   },
   "source": [
    "## Types des variables"
   ]
  },
  {
   "cell_type": "code",
   "execution_count": null,
   "metadata": {
    "id": "7sNSgBJfVMbi"
   },
   "outputs": [],
   "source": [
    "data1['created_datetime'] = data1['created_datetime'].astype('datetime64[ns]')\n",
    "\n",
    "var_int = ['additives_n', 'nutriscore_score', 'nutrition-score-fr_100g', 'created_t', 'last_modified_t']\n",
    "data1[var_int] = data1[var_int].astype(np.float).astype('Int32')\n",
    "\n",
    "var_cat = ['nova_group', 'pnns_groups_1', 'pnns_groups_2', 'nutriscore_grade']\n",
    "data1[var_cat] = data1[var_cat].astype('category')"
   ]
  },
  {
   "cell_type": "markdown",
   "metadata": {
    "id": "De8jyiLUYQYv"
   },
   "source": [
    "## Variables temporelles"
   ]
  },
  {
   "cell_type": "code",
   "execution_count": null,
   "metadata": {
    "id": "76XQq1aeX9Oz"
   },
   "outputs": [],
   "source": [
    "nb_data_avant = data1.shape[0]"
   ]
  },
  {
   "cell_type": "code",
   "execution_count": null,
   "metadata": {
    "id": "EbdslE7LR_MT"
   },
   "outputs": [],
   "source": [
    "var_temp = ['created_t','created_datetime','last_modified_t', 'last_modified_datetime']"
   ]
  },
  {
   "cell_type": "code",
   "execution_count": null,
   "metadata": {
    "id": "rDsYvgm5Zkvt"
   },
   "outputs": [],
   "source": [
    "plt.figure(1,figsize=(10,12))\n",
    "plt.gcf().subplots_adjust(left = 0.125, bottom = 0.2, right = 1.5,\n",
    "                          top = 0.9, wspace = 0.5, hspace = 0.6)\n",
    "\n",
    "plt.subplot(2,2,1)\n",
    "data1[\"last_modified_t\"].hist(legend=\"last_modified_t\")\n",
    "\n",
    "plt.subplot(2,2,2)\n",
    "data1[\"last_modified_datetime\"].hist(density=True, legend=\"last_modified_datetime\")\n",
    "\n",
    "plt.subplot(2,2,3)\n",
    "data1[\"created_t\"].hist(legend=\"created_t\")\n",
    "\n",
    "plt.subplot(2,2,4)\n",
    "data1[\"created_datetime\"].hist(density=True, legend=\"last_modified_t\")\n",
    "\n",
    "plt.show()"
   ]
  },
  {
   "cell_type": "code",
   "execution_count": null,
   "metadata": {
    "id": "JoZmQ1rAVzZZ"
   },
   "outputs": [],
   "source": [
    "## Création d'une nouvelle variable de 'last_modified_datetime' au format d'horodatage UNIX (nombre de secondes depuis le 1er janvier 1970)\n",
    "data1['last_modified_datetime_ns'] =  (pd.to_datetime(data1['last_modified_datetime']) - pd.Timestamp(\"1970-01-01 00:00:00+00:00\")) // pd.Timedelta('1ns') "
   ]
  },
  {
   "cell_type": "code",
   "execution_count": null,
   "metadata": {
    "id": "BDdGQJkzv8T1"
   },
   "outputs": [],
   "source": [
    "X = 'last_modified_datetime_ns'\n",
    "Y = 'last_modified_t'\n",
    "print(\"La corrélation de Pearson est de :\", st.pearsonr(data1[X],data1[Y])[0])"
   ]
  },
  {
   "cell_type": "markdown",
   "metadata": {
    "id": "B-cgbjqNgUIf"
   },
   "source": [
    "Le coefficient de Pearson est de 1, ces 2 variables sont donc corrélées.\n",
    "\n",
    "On ne garde qu'une seule variable temporelle qui est utile : 'last_modified_t'"
   ]
  },
  {
   "cell_type": "code",
   "execution_count": null,
   "metadata": {
    "id": "9nJWcdAeZp14"
   },
   "outputs": [],
   "source": [
    "data1.drop(['created_t','created_datetime', 'last_modified_datetime', 'last_modified_datetime_ns'], axis = 1, inplace = True)"
   ]
  },
  {
   "cell_type": "code",
   "execution_count": null,
   "metadata": {
    "id": "ZHlfEB8xGBM1"
   },
   "outputs": [],
   "source": [
    "data1 = data1.dropna(how = 'all')"
   ]
  },
  {
   "cell_type": "code",
   "execution_count": null,
   "metadata": {
    "id": "DDQIMscSX_8O"
   },
   "outputs": [],
   "source": [
    "info_nettoyage(data1)"
   ]
  },
  {
   "cell_type": "markdown",
   "metadata": {
    "id": "raV9fkarhOmF"
   },
   "source": [
    "## Choix entre nutriscore_score et nutrition-score-fr_100g\n",
    "\n"
   ]
  },
  {
   "cell_type": "code",
   "execution_count": null,
   "metadata": {
    "id": "0qfqMcKBZUOm"
   },
   "outputs": [],
   "source": [
    "nb_data_avant = data1.shape[0]"
   ]
  },
  {
   "cell_type": "code",
   "execution_count": null,
   "metadata": {
    "id": "k74RHxS5oxwZ"
   },
   "outputs": [],
   "source": [
    "var_nutri_quanti = ['nutriscore_score', 'nutrition-score-fr_100g']"
   ]
  },
  {
   "cell_type": "code",
   "execution_count": null,
   "metadata": {
    "id": "qtIcxq1YhSyR"
   },
   "outputs": [],
   "source": [
    "data1[var_nutri_quanti].dropna()"
   ]
  },
  {
   "cell_type": "code",
   "execution_count": null,
   "metadata": {
    "id": "UK9788XJrCnx"
   },
   "outputs": [],
   "source": [
    "plt.figure(1,figsize=(10,5))\n",
    "plt.gcf().subplots_adjust(left = 0.125, bottom = 0.2, right = 1.5,\n",
    "                          top = 0.9, wspace = 0.5, hspace = 0.6)\n",
    "\n",
    "plt.subplot(1,2,1)\n",
    "data1[\"nutriscore_score\"].hist(legend=\"nutriscore_score\")\n",
    "\n",
    "plt.subplot(1,2,2)\n",
    "data1[\"nutrition-score-fr_100g\"].hist(legend=\"nutrition-score-fr_100g\")\n",
    "\n",
    "plt.show()"
   ]
  },
  {
   "cell_type": "code",
   "execution_count": null,
   "metadata": {
    "id": "qrbeVk5as34c"
   },
   "outputs": [],
   "source": [
    "print(data1['nutriscore_score'].isnull().sum(axis = 0))\n",
    "print(data1['nutrition-score-fr_100g'].isnull().sum(axis = 0))"
   ]
  },
  {
   "cell_type": "code",
   "execution_count": null,
   "metadata": {
    "id": "Q3DLDR2Cs_8q"
   },
   "outputs": [],
   "source": [
    "data1[var_nutri_quanti].describe(include = 'all')"
   ]
  },
  {
   "cell_type": "code",
   "execution_count": null,
   "metadata": {
    "id": "j0fbmtg4uryK"
   },
   "outputs": [],
   "source": [
    "tab = data1[var_nutri_quanti].dropna(how = 'all')\n",
    "tab[var_nutri_quanti].astype('Int32')\n",
    "sum(list((tab['nutriscore_score'] - tab['nutrition-score-fr_100g'])**2))"
   ]
  },
  {
   "cell_type": "markdown",
   "metadata": {
    "id": "HAbZa9CXxEm8"
   },
   "source": [
    "Il n'y a pas de différence entre ces 2 variables. On garde une seule variable pour la suite des analyses, soit : 'nutrition-score-fr_100g'"
   ]
  },
  {
   "cell_type": "code",
   "execution_count": null,
   "metadata": {
    "id": "FgjYSBllxPst"
   },
   "outputs": [],
   "source": [
    "data1.drop(['nutriscore_score'], axis = 1, inplace = True)"
   ]
  },
  {
   "cell_type": "code",
   "execution_count": null,
   "metadata": {
    "id": "4B4nUN6pZfRo"
   },
   "outputs": [],
   "source": [
    "info_nettoyage(data1)"
   ]
  },
  {
   "cell_type": "markdown",
   "metadata": {
    "id": "-YARDcAREjp-"
   },
   "source": [
    "## Choix entre 'energy_100g' et 'energy-kj_100g'"
   ]
  },
  {
   "cell_type": "code",
   "execution_count": null,
   "metadata": {
    "id": "417NZWMnZie_"
   },
   "outputs": [],
   "source": [
    "nb_data_avant = data1.shape[0]"
   ]
  },
  {
   "cell_type": "code",
   "execution_count": null,
   "metadata": {
    "id": "-OuyRFzHEjqJ"
   },
   "outputs": [],
   "source": [
    "var_energie = ['energy_100g', 'energy-kj_100g']"
   ]
  },
  {
   "cell_type": "code",
   "execution_count": null,
   "metadata": {
    "id": "SrgG1_SjEjqK"
   },
   "outputs": [],
   "source": [
    "tab = data1[var_energie].dropna()\n",
    "tab = tab.dropna(how = 'any')\n",
    "tab[var_energie] = tab[var_energie].astype(int)\n",
    "tab[var_energie].isnull().sum(axis = 0)"
   ]
  },
  {
   "cell_type": "code",
   "execution_count": null,
   "metadata": {
    "id": "v2oaSlhsEjqL"
   },
   "outputs": [],
   "source": [
    "sum(list((tab['energy_100g'] - tab['energy-kj_100g'])**2))"
   ]
  },
  {
   "cell_type": "markdown",
   "metadata": {
    "id": "nQRRialzEjqL"
   },
   "source": [
    "Il n'y a pas de différence entre ces 2 variables. On ne garde que la variable 'energy_100g' qui est la plus remplie."
   ]
  },
  {
   "cell_type": "code",
   "execution_count": null,
   "metadata": {
    "id": "JCZbgfXJEjqL"
   },
   "outputs": [],
   "source": [
    "data1.drop(['energy-kj_100g'], axis = 1, inplace = True)"
   ]
  },
  {
   "cell_type": "code",
   "execution_count": null,
   "metadata": {
    "id": "8blGP3GKZ1Zl"
   },
   "outputs": [],
   "source": [
    "data1 = data1.dropna(how = 'all')"
   ]
  },
  {
   "cell_type": "code",
   "execution_count": null,
   "metadata": {
    "id": "tQUvr9D5Zow4"
   },
   "outputs": [],
   "source": [
    "info_nettoyage(data1)"
   ]
  },
  {
   "cell_type": "markdown",
   "metadata": {
    "id": "kwqL1CmMpDL3"
   },
   "source": [
    "## Description du choix des variables utiles pour l'application"
   ]
  },
  {
   "cell_type": "code",
   "execution_count": null,
   "metadata": {
    "id": "GM5l4NFmmlPg"
   },
   "outputs": [],
   "source": [
    "## Nettoyage total des colonnes en double\n",
    "nb_data_avant = nb_data_avant_1\n",
    "info_nettoyage(data1)"
   ]
  },
  {
   "cell_type": "code",
   "execution_count": null,
   "metadata": {
    "id": "jdnw6HDCm2eL"
   },
   "outputs": [],
   "source": [
    "graphe_donnees_manquantes(data1)"
   ]
  },
  {
   "cell_type": "markdown",
   "metadata": {
    "id": "I-qiHh5bmMAz"
   },
   "source": [
    "# Nettoyage des colonnes 'pnns_groups_1' et 'pnns_groups_2'"
   ]
  },
  {
   "cell_type": "code",
   "execution_count": null,
   "metadata": {
    "id": "IowtJlYnmMA4"
   },
   "outputs": [],
   "source": [
    "nb_data_avant = data1.shape[0]"
   ]
  },
  {
   "cell_type": "code",
   "execution_count": null,
   "metadata": {
    "id": "LvJTXHJGmMA6"
   },
   "outputs": [],
   "source": [
    "data1['pnns_groups_1'].value_counts()"
   ]
  },
  {
   "cell_type": "code",
   "execution_count": null,
   "metadata": {
    "id": "dkdBJ-GrmMA8"
   },
   "outputs": [],
   "source": [
    "data1['pnns_groups_1'] = data1[\"pnns_groups_1\"].replace(['unknown'],np.nan)\n",
    "data1['pnns_groups_1'] = data1[\"pnns_groups_1\"].replace(['sugary-snacks'],'Sugary snacks')\n",
    "data1['pnns_groups_1'] = data1[\"pnns_groups_1\"].replace(['salty-snacks'],'Salty snacks')\n",
    "data1['pnns_groups_1'] = data1[\"pnns_groups_1\"].replace(['fruits-and-vegetables'],'Fruits and vegetables')\n",
    "data1['pnns_groups_1'] = data1[\"pnns_groups_1\"].replace(['cereals-and-potatoes'],'Cereals and potatoes')"
   ]
  },
  {
   "cell_type": "code",
   "execution_count": null,
   "metadata": {
    "id": "d637o5aOmMA9"
   },
   "outputs": [],
   "source": [
    "data1['pnns_groups_1'].value_counts()"
   ]
  },
  {
   "cell_type": "code",
   "execution_count": null,
   "metadata": {
    "id": "4aaK3tUrmMA9"
   },
   "outputs": [],
   "source": [
    "data1['pnns_groups_2'].value_counts()"
   ]
  },
  {
   "cell_type": "code",
   "execution_count": null,
   "metadata": {
    "id": "STSbTTy_mMA-"
   },
   "outputs": [],
   "source": [
    "data1['pnns_groups_2'] = data1[\"pnns_groups_2\"].replace(['unknown'],np.nan)\n",
    "data1['pnns_groups_2'] = data1[\"pnns_groups_2\"].replace(['vegetables'],'Vegetables')\n",
    "data1['pnns_groups_2'] = data1[\"pnns_groups_2\"].replace(['legumes'],'Legumes')\n",
    "data1['pnns_groups_2'] = data1[\"pnns_groups_2\"].replace(['nuts'],'Nuts')\n",
    "data1['pnns_groups_2'] = data1[\"pnns_groups_2\"].replace(['cereals'],'Cereals')\n",
    "data1['pnns_groups_2'] = data1[\"pnns_groups_2\"].replace(['fruits'],'Fruits')\n",
    "data1['pnns_groups_2'] = data1[\"pnns_groups_2\"].replace(['Pizza pies and quiches'],'Pizza pies and quiche')"
   ]
  },
  {
   "cell_type": "code",
   "execution_count": null,
   "metadata": {
    "id": "cYHkZXMOmMA_"
   },
   "outputs": [],
   "source": [
    "data1['pnns_groups_2'].value_counts()"
   ]
  },
  {
   "cell_type": "code",
   "execution_count": null,
   "metadata": {
    "id": "8b6KRuRimMBB"
   },
   "outputs": [],
   "source": [
    "print(data1['pnns_groups_1'].isnull().sum(axis = 0))"
   ]
  },
  {
   "cell_type": "code",
   "execution_count": null,
   "metadata": {
    "id": "iD9oNYS8mMBC"
   },
   "outputs": [],
   "source": [
    "print(data1['pnns_groups_2'].isnull().sum(axis = 0))"
   ]
  },
  {
   "cell_type": "code",
   "execution_count": null,
   "metadata": {
    "id": "JnoICZCEmMBD"
   },
   "outputs": [],
   "source": [
    "data1[['pnns_groups_1', 'pnns_groups_2']].dropna(how='all').isnull().sum(axis = 0)"
   ]
  },
  {
   "cell_type": "markdown",
   "metadata": {
    "id": "PCyRVVelmMBD"
   },
   "source": [
    "On utilise la colonne 'pnns_groups_2' pour remplir la colonne 'pnns_groups_1' en créant un dictionnaire des catégories entre 'pnns_groups_1' et 'pnns_groups_2'\n",
    "\n"
   ]
  },
  {
   "cell_type": "markdown",
   "metadata": {
    "id": "d5dA9P0zmMBE"
   },
   "source": [
    "## Imputation de 'pnns_groups_1' par les données de 'pnns_groups_2'"
   ]
  },
  {
   "cell_type": "code",
   "execution_count": null,
   "metadata": {
    "id": "UaCLQVZTmMBE"
   },
   "outputs": [],
   "source": [
    "sns.factorplot(x = \"pnns_groups_1\", hue = \"pnns_groups_2\", data = data1[['pnns_groups_1', 'pnns_groups_2']], kind = \"count\", linewidth = 15, size=12, aspect=2, palette=sns.color_palette(\"tab10\"))"
   ]
  },
  {
   "cell_type": "code",
   "execution_count": null,
   "metadata": {
    "id": "yZ2llNtWmMBF"
   },
   "outputs": [],
   "source": [
    "## Dictionnaire des catégories\n",
    "\n",
    "dicti = {'Sugary snacks' : ['Sweets',' Biscuits and cakes', 'Chocolate products', 'pastries'],\n",
    "         'Fish Meat Eggs' : ['Meat', 'Fish and seafood', 'Eggs', 'Offals', 'Processed meat'],\n",
    "         'Milk and dairy products' : ['Cheese', 'Milk and yogurt',' Dairy desserts', 'Ice cream'],\n",
    "         'Cereals and potatoes': ['Cereals', 'Potatoes', 'Bread', 'Breakfast cereals'],\n",
    "         'Fat and sauces': ['Dressings and sauces', 'Fats'],\n",
    "         'Beverages': ['Sweetened beverages',' Unsweetened beverages', 'Alcoholic beverages', 'Artificially sweetened beverages', 'Waters and flavored waters', 'Teas and herbal teas and coffees', 'Plant-based milk substitutes', 'Fruit juices', 'Fruit nectars'],\n",
    "         'Fruits and vegetables': ['Vegetables', 'Fruits', 'Legumes', 'Nuts', 'Dried fruits'],\n",
    "         'Composite foods': ['Pizza pies and quiche', 'Soups', 'Sandwiches', 'One-dish meals'],\n",
    "         'Salty snacks': ['Appetizers', 'Salty and fatty products']}"
   ]
  },
  {
   "cell_type": "code",
   "execution_count": null,
   "metadata": {
    "id": "fWAnzm7TmMBF"
   },
   "outputs": [],
   "source": [
    "data1['pnns_groups_1_bis'] = data1['pnns_groups_1']"
   ]
  },
  {
   "cell_type": "code",
   "execution_count": null,
   "metadata": {
    "id": "RUvabYPOmMBF"
   },
   "outputs": [],
   "source": [
    "data1['pnns_groups_1_bis'].value_counts()"
   ]
  },
  {
   "cell_type": "code",
   "execution_count": null,
   "metadata": {
    "id": "72m3qhDgmMBG"
   },
   "outputs": [],
   "source": [
    "print(data1[['pnns_groups_1', 'pnns_groups_1_bis','pnns_groups_2']].dropna(how='all').isnull().sum(axis = 0))"
   ]
  },
  {
   "cell_type": "code",
   "execution_count": null,
   "metadata": {
    "id": "PGvof9domMBG"
   },
   "outputs": [],
   "source": [
    "data1['pnns_groups_1_bis'] = np.where(data1['pnns_groups_1_bis'].isna(), data1['pnns_groups_2'],  data1['pnns_groups_1'])"
   ]
  },
  {
   "cell_type": "code",
   "execution_count": null,
   "metadata": {
    "id": "gHZOJhqXmMBH"
   },
   "outputs": [],
   "source": [
    "data1['pnns_groups_1_bis'].value_counts()"
   ]
  },
  {
   "cell_type": "code",
   "execution_count": null,
   "metadata": {
    "id": "xdXlvS3AmMBH"
   },
   "outputs": [],
   "source": [
    "print(data1[['pnns_groups_1', 'pnns_groups_1_bis','pnns_groups_2']].dropna(how='all').isnull().sum(axis = 0))"
   ]
  },
  {
   "cell_type": "code",
   "execution_count": null,
   "metadata": {
    "id": "TkiAAbiXmMBI"
   },
   "outputs": [],
   "source": [
    "for i in range(len(list(dicti.keys()))-1):\n",
    "  data1['pnns_groups_1_bis'] = data1['pnns_groups_1_bis'].replace(dicti[list(dicti.keys())[i]],list(dicti.keys())[i])"
   ]
  },
  {
   "cell_type": "code",
   "execution_count": null,
   "metadata": {
    "id": "pTK4HwNnmMBI"
   },
   "outputs": [],
   "source": [
    "data1['pnns_groups_1_bis'].value_counts()"
   ]
  },
  {
   "cell_type": "code",
   "execution_count": null,
   "metadata": {
    "id": "6T7jDdS0u2FP"
   },
   "outputs": [],
   "source": [
    "data1['pnns_groups_1_bis'] = data1['pnns_groups_1_bis'].astype('category')"
   ]
  },
  {
   "cell_type": "code",
   "execution_count": null,
   "metadata": {
    "id": "hRkIIxB-mMBJ"
   },
   "outputs": [],
   "source": [
    "plt.figure(1,figsize=(30,20))\n",
    "plt.gcf().subplots_adjust(left = 0.125, bottom = 0.2, right = 1.5,\n",
    "                          top = 0.9, wspace = 0.1, hspace = 0.6)\n",
    "\n",
    "plt.subplot(1,2,1)\n",
    "data1[\"pnns_groups_1_bis\"].hist()\n",
    "plt.xticks(fontsize=30)\n",
    "plt.yticks(fontsize=30)\n",
    "plt.xticks(rotation=45)\n",
    "plt.title('Histogramme de pnns_groups_1_bis', fontsize=30)\n",
    "\n",
    "plt.subplot(1,2,2)\n",
    "data1[\"pnns_groups_1\"].hist()\n",
    "plt.xticks(fontsize=30)\n",
    "plt.yticks(fontsize=30)\n",
    "plt.xticks(rotation=45)\n",
    "plt.title('Histogramme de pnns_groups_1', fontsize=30)\n",
    "plt.show()"
   ]
  },
  {
   "cell_type": "code",
   "execution_count": null,
   "metadata": {
    "id": "6f6zYeCRmMBJ"
   },
   "outputs": [],
   "source": [
    "data1[[\"pnns_groups_1\", \"pnns_groups_1_bis\"]].describe(include='all')"
   ]
  },
  {
   "cell_type": "markdown",
   "metadata": {
    "id": "6bTFGitCmMBK"
   },
   "source": [
    "Ces 2 variables ont la même distribution et les mêmes statistiques descriptives (pas de grandes modifications sur la distribution des données suite à l'imputation)"
   ]
  },
  {
   "cell_type": "code",
   "execution_count": null,
   "metadata": {
    "id": "sczR_rphmMBK"
   },
   "outputs": [],
   "source": [
    "data1.drop(['pnns_groups_1'], axis = 1, inplace = True)"
   ]
  },
  {
   "cell_type": "code",
   "execution_count": null,
   "metadata": {
    "id": "0iCSTc6ZphRr"
   },
   "outputs": [],
   "source": [
    "info_nettoyage(data1)"
   ]
  },
  {
   "cell_type": "markdown",
   "metadata": {
    "id": "WoFd2mbz_Zo1"
   },
   "source": [
    "# Supprimer les lignes sans les informations utiles"
   ]
  },
  {
   "cell_type": "code",
   "execution_count": null,
   "metadata": {
    "id": "zt3wsFNm3vHV"
   },
   "outputs": [],
   "source": [
    "data1 = data1.dropna(how = 'all')"
   ]
  },
  {
   "cell_type": "code",
   "execution_count": null,
   "metadata": {
    "id": "8LxYLVC-3-ZI"
   },
   "outputs": [],
   "source": [
    "nb_data_avant = data1.shape[0]"
   ]
  },
  {
   "cell_type": "markdown",
   "metadata": {
    "id": "79ok5m_KCy6-"
   },
   "source": [
    "Notre idée d'application est basée sur l'étude de ces variables principales : \n",
    "* 'nutriscore_grade' et 'nutrition-score-fr_100g'\n",
    "* 'additives_n'\n",
    "* 'allergens_n'\n",
    "* 'nova_group'\n",
    "* 'pnns_groups1' et 'pnns_groups_2'\n",
    "\n",
    "Pour que ces colonnes soient bien renseignées, nous pouvons supprimer toutes les lignes ne contenant pas ces informations, ainsi que celles qui seront utilisées dans la suite du nettoyage ('code', 'url', 'product_name', 'brands_tags')"
   ]
  },
  {
   "cell_type": "code",
   "execution_count": null,
   "metadata": {
    "id": "F_j_lztf4bPr"
   },
   "outputs": [],
   "source": [
    "data1 = data1.dropna(subset=['product_name', 'code', 'url', 'nutriscore_grade', 'nutrition-score-fr_100g', 'pnns_groups_1_bis', 'pnns_groups_2', 'brands', 'nova_group'], how = 'any')"
   ]
  },
  {
   "cell_type": "code",
   "execution_count": null,
   "metadata": {
    "id": "UnMSGsqU_0yV"
   },
   "outputs": [],
   "source": [
    "info_nettoyage(data1)"
   ]
  },
  {
   "cell_type": "code",
   "execution_count": null,
   "metadata": {
    "id": "ESPvUags4I5N"
   },
   "outputs": [],
   "source": [
    "graphe_donnees_manquantes(data1)"
   ]
  },
  {
   "cell_type": "markdown",
   "metadata": {
    "id": "gZsIH6gJT0tG"
   },
   "source": [
    "# Nettoyage des colonnes d'entiers"
   ]
  },
  {
   "cell_type": "markdown",
   "metadata": {
    "id": "sddcZwGSxYks"
   },
   "source": [
    "## *Nombre d'additifs*"
   ]
  },
  {
   "cell_type": "code",
   "execution_count": null,
   "metadata": {
    "id": "nu2PP_xRUGOk"
   },
   "outputs": [],
   "source": [
    "data1['additives_n'].unique()"
   ]
  },
  {
   "cell_type": "code",
   "execution_count": null,
   "metadata": {
    "id": "mTx53hXPfq8e"
   },
   "outputs": [],
   "source": [
    "fig = plt.figure()\n",
    "data1[\"additives_n\"].hist()\n",
    "plt.yscale('log')\n",
    "ax = plt.axes()\n",
    "ax = ax.set(xlabel='Nombre d\\'additifs', ylabel='Nombre produits')\n",
    "plt.title('Histogramme du nombre d\\'additifs')\n",
    "plt.show()"
   ]
  },
  {
   "cell_type": "markdown",
   "metadata": {
    "id": "f64O8I7pXVC8"
   },
   "source": [
    "## *Nombre d'allergènes*"
   ]
  },
  {
   "cell_type": "code",
   "execution_count": null,
   "metadata": {
    "id": "M-p7wGvKg_LY"
   },
   "outputs": [],
   "source": [
    "data1['allergens'].unique()"
   ]
  },
  {
   "cell_type": "code",
   "execution_count": null,
   "metadata": {
    "id": "A2WNRcQRTp9i"
   },
   "outputs": [],
   "source": [
    "A = data1['allergens']\n",
    "A = list(A.fillna('VM'))"
   ]
  },
  {
   "cell_type": "code",
   "execution_count": null,
   "metadata": {
    "id": "bqPSv8bjTqFl"
   },
   "outputs": [],
   "source": [
    "N =[]\n",
    "for i in range(len(A)):\n",
    "  if A[i] == 'VM':\n",
    "    N.append(np.nan)\n",
    "  else:\n",
    "    N.append(A[i].count(',')+1)\n",
    "\n",
    "data1['allergens_n'] = N"
   ]
  },
  {
   "cell_type": "code",
   "execution_count": null,
   "metadata": {
    "id": "heicH5vYWApD"
   },
   "outputs": [],
   "source": [
    "data1[['allergens_n', 'allergens']].dropna()"
   ]
  },
  {
   "cell_type": "code",
   "execution_count": null,
   "metadata": {
    "id": "ATbyqTF-nCxT"
   },
   "outputs": [],
   "source": [
    "data1['allergens_n'] = data1['allergens_n'].astype('Int32')"
   ]
  },
  {
   "cell_type": "code",
   "execution_count": null,
   "metadata": {
    "id": "LGLOxS_AmfRA"
   },
   "outputs": [],
   "source": [
    "data1['allergens_n'].unique()"
   ]
  },
  {
   "cell_type": "code",
   "execution_count": null,
   "metadata": {
    "id": "86aImmmUg_Lp"
   },
   "outputs": [],
   "source": [
    "fig = plt.figure()\n",
    "data1[\"allergens_n\"].hist()\n",
    "ax = plt.axes()\n",
    "ax.set_xlim([0, 25])\n",
    "plt.yscale('log')\n",
    "ax = ax.set(xlabel='Nombre d\\'allergens', ylabel='Nombre produits')\n",
    "plt.title('Histogramme du nombre d\\'allergens')\n",
    "plt.show()"
   ]
  },
  {
   "cell_type": "code",
   "execution_count": null,
   "metadata": {
    "id": "KcLlUSJkxqOP"
   },
   "outputs": [],
   "source": [
    "data1.drop(['allergens'], axis = 1, inplace = True)"
   ]
  },
  {
   "cell_type": "markdown",
   "metadata": {
    "id": "zYq6aOhsxek4"
   },
   "source": [
    "## Energie des produits entre 'energy-kcal_100g' et 'energy_100g'"
   ]
  },
  {
   "cell_type": "code",
   "execution_count": null,
   "metadata": {
    "id": "q9l7HRr1bzqZ"
   },
   "outputs": [],
   "source": [
    "nb_data_avant = data1.shape[0]"
   ]
  },
  {
   "cell_type": "code",
   "execution_count": null,
   "metadata": {
    "id": "g7P88rvkrSOw"
   },
   "outputs": [],
   "source": [
    "var_energie = ['energy-kcal_100g', 'energy_100g']"
   ]
  },
  {
   "cell_type": "markdown",
   "metadata": {
    "id": "8eTmh0RosdFx"
   },
   "source": [
    "Les aliments les plus caloriques tels que l'huile, le pain ou le beurre ne dépassent pas 900,00 kcal. On peut donc prendre comme limite pour l'énergie 1000 kcal, soit 4184kJ."
   ]
  },
  {
   "cell_type": "code",
   "execution_count": null,
   "metadata": {
    "id": "kWfxSRFtrSSG"
   },
   "outputs": [],
   "source": [
    "data1 = data1[(np.invert(data1[['energy-kcal_100g']] > 1000)).all(axis=1)]\n",
    "data1 = data1[(np.invert(data1[['energy_100g']] > 4500)).all(axis=1)]"
   ]
  },
  {
   "cell_type": "code",
   "execution_count": null,
   "metadata": {
    "id": "D7hiy922rSVs"
   },
   "outputs": [],
   "source": [
    "data1[var_energie].dropna().head(15)"
   ]
  },
  {
   "cell_type": "code",
   "execution_count": null,
   "metadata": {
    "id": "ZJkpcSyNtwey"
   },
   "outputs": [],
   "source": [
    "data1[var_energie].isnull().sum(axis = 0)"
   ]
  },
  {
   "cell_type": "code",
   "execution_count": null,
   "metadata": {
    "id": "lgWONcCktwje"
   },
   "outputs": [],
   "source": [
    "tab = data1[var_energie].dropna(how = 'all')\n",
    "tab[var_energie].isnull().sum(axis = 0)"
   ]
  },
  {
   "cell_type": "markdown",
   "metadata": {
    "id": "3r_LiytwRYYy"
   },
   "source": [
    "La colonne 'energy_100g' étant la plus remplie et n'ayant pas de données manquantes qui seraient présentes dans la colonne'energy-kcal_100g', on peut utiliser celle-ci pour l'application en vérifiant si elle contient des erreurs grâce à la colonne 'energy-kcal_100g'. \n",
    "\n",
    "La relation entre 'energy_100g' et 'energy-kcal_100g' est : 1 kcal = 4,1868 kJ"
   ]
  },
  {
   "cell_type": "code",
   "execution_count": null,
   "metadata": {
    "id": "iM1FDyNJtwoM"
   },
   "outputs": [],
   "source": [
    "data1['coeff_proport'] = data1['energy_100g'].astype(float)/data1['energy-kcal_100g'].astype(float)"
   ]
  },
  {
   "cell_type": "code",
   "execution_count": null,
   "metadata": {
    "id": "EiCVJjrAtU5e"
   },
   "outputs": [],
   "source": [
    "data1[['energy_100g','energy-kcal_100g', 'coeff_proport']].describe(include='all')"
   ]
  },
  {
   "cell_type": "code",
   "execution_count": null,
   "metadata": {
    "id": "BQtdUSlJUf6B"
   },
   "outputs": [],
   "source": [
    "data1 = data1[(np.invert(data1[['coeff_proport']] == np.inf)).all(axis=1)] \n",
    "## correspond au quotient entre 'energy_100g' > 0 et 'energy-kcal_100g' = 0 (soit n'ayant pas un coefficient de proportionnalité proche 4.18)"
   ]
  },
  {
   "cell_type": "code",
   "execution_count": null,
   "metadata": {
    "id": "XvQHn9sfWVJH"
   },
   "outputs": [],
   "source": [
    "data1[['energy_100g','energy-kcal_100g', 'coeff_proport']].describe(include='all')"
   ]
  },
  {
   "cell_type": "code",
   "execution_count": null,
   "metadata": {
    "id": "9yT5CYeQqWta"
   },
   "outputs": [],
   "source": [
    "## Pseudo-nuage de points\n",
    "sns.set_theme(style=\"whitegrid\")\n",
    "sns.stripplot(x = \"coeff_proport\", data = data1, jitter = True)"
   ]
  },
  {
   "cell_type": "markdown",
   "metadata": {
    "id": "Q-Gd1bcICoCa"
   },
   "source": [
    "Le coefficient de proportionnalité calculé entre 'energy_100g' et 'energy-kcal_100g' doit être de 4.184. Les outliers des coefficients correspondent donc à des erreurs dans le remplissage d'une ou des 2 colonnes."
   ]
  },
  {
   "cell_type": "code",
   "execution_count": null,
   "metadata": {
    "id": "WYz_aKPeeab_"
   },
   "outputs": [],
   "source": [
    "data1 = data1[(np.invert(data1[['coeff_proport']] < 4)).all(axis=1)]\n",
    "data1 = data1[(np.invert(data1[['coeff_proport']] > 4.5)).all(axis=1)]"
   ]
  },
  {
   "cell_type": "code",
   "execution_count": null,
   "metadata": {
    "id": "yjw5S3mbeAqJ"
   },
   "outputs": [],
   "source": [
    "## Pseudo-nuage de points\n",
    "sns.set_theme(style=\"whitegrid\")\n",
    "sns.stripplot(x = \"coeff_proport\", data = data1, jitter = True)\n",
    "plt.title('Pseudo-nuage de points')"
   ]
  },
  {
   "cell_type": "code",
   "execution_count": null,
   "metadata": {
    "id": "slCYwTqIWl89"
   },
   "outputs": [],
   "source": [
    "sns.boxplot(x=data1['coeff_proport'])"
   ]
  },
  {
   "cell_type": "code",
   "execution_count": null,
   "metadata": {
    "id": "sa9_TgvIWmAt"
   },
   "outputs": [],
   "source": [
    "data1[['energy_100g','energy-kcal_100g', 'coeff_proport']].describe(include='all')"
   ]
  },
  {
   "cell_type": "code",
   "execution_count": null,
   "metadata": {
    "id": "8rMcgNseWmEd"
   },
   "outputs": [],
   "source": [
    "plt.figure(1,figsize=(10,5))\n",
    "plt.gcf().subplots_adjust(left = 0.125, bottom = 0.2, right = 1.5,\n",
    "                          top = 0.9, wspace = 0.5, hspace = 0.6)\n",
    "\n",
    "plt.subplot(1,2,1)\n",
    "sns.boxplot(x=data1[\"energy-kcal_100g\"])\n",
    "plt.title('Boxplot de l\\'énergie en kcal')\n",
    "\n",
    "plt.subplot(1,2,2)\n",
    "sns.boxplot(x=data1[\"energy_100g\"])\n",
    "plt.title('Boxplot de l\\'énergie en kJ')\n",
    "\n",
    "plt.show()"
   ]
  },
  {
   "cell_type": "code",
   "execution_count": null,
   "metadata": {
    "id": "ExSKTb8TGkeY"
   },
   "outputs": [],
   "source": [
    "data1.drop(['energy-kcal_100g', 'coeff_proport'], axis = 1, inplace = True)"
   ]
  },
  {
   "cell_type": "code",
   "execution_count": null,
   "metadata": {
    "id": "iaWqZhxEZtLR"
   },
   "outputs": [],
   "source": [
    "data1 = data1.dropna(how = 'all')"
   ]
  },
  {
   "cell_type": "code",
   "execution_count": null,
   "metadata": {
    "id": "wN1ZOwFfZtNn"
   },
   "outputs": [],
   "source": [
    "info_nettoyage(data1)"
   ]
  },
  {
   "cell_type": "markdown",
   "metadata": {
    "id": "ipSSYKi0oue5"
   },
   "source": [
    "# Nettoyage des colonnes catégorielles"
   ]
  },
  {
   "cell_type": "markdown",
   "metadata": {
    "id": "U0crFvLC36az"
   },
   "source": [
    "## Nova group"
   ]
  },
  {
   "cell_type": "code",
   "execution_count": null,
   "metadata": {
    "id": "OQSc9wpsgvg0"
   },
   "outputs": [],
   "source": [
    "data1['nova_group'].unique()"
   ]
  },
  {
   "cell_type": "code",
   "execution_count": null,
   "metadata": {
    "id": "F_cGEQ_Tna9u"
   },
   "outputs": [],
   "source": [
    "data1['nova_group'] = data1['nova_group'].astype(CategoricalDtype(ordered=True))"
   ]
  },
  {
   "cell_type": "code",
   "execution_count": null,
   "metadata": {
    "id": "lx6RAHfzg14K"
   },
   "outputs": [],
   "source": [
    "fig = plt.figure()\n",
    "data1[\"nova_group\"].hist()\n",
    "ax = plt.axes()\n",
    "ax = ax.set(xlabel='Nova group', ylabel='Nombre produits')\n",
    "plt.title('Histogramme du Nova group')\n",
    "plt.show()"
   ]
  },
  {
   "cell_type": "markdown",
   "metadata": {
    "id": "Sd8I5jvR3-qj"
   },
   "source": [
    "## Nutriscore grade"
   ]
  },
  {
   "cell_type": "code",
   "execution_count": null,
   "metadata": {
    "id": "VNGx85V2g4Rs"
   },
   "outputs": [],
   "source": [
    "data1['nutriscore_grade'].unique()"
   ]
  },
  {
   "cell_type": "code",
   "execution_count": null,
   "metadata": {
    "id": "uqHL9ErC31wj"
   },
   "outputs": [],
   "source": [
    "data1['nutriscore_grade'] = data1['nutriscore_grade'].astype(CategoricalDtype(categories=['a', 'b', 'c', 'd', 'e'], ordered=True))"
   ]
  },
  {
   "cell_type": "code",
   "execution_count": null,
   "metadata": {
    "id": "v7Di9yayQSvp"
   },
   "outputs": [],
   "source": [
    "sns.set(style=\"white\", rc={\"axes.grid\":True})\n",
    "ax = sns.countplot(x='nutriscore_grade', data=data1, saturation = 1)\n",
    "ax.set_title('Histogramme du Nutriscore grade')\n",
    "ax = ax.set(xlabel='Nutriscore grade', ylabel='Nombre produits')"
   ]
  },
  {
   "cell_type": "markdown",
   "metadata": {
    "id": "50eDB34bWDZJ"
   },
   "source": [
    "## Nettoyage entre 'nutriscore_grade' et 'nutrition-score-fr_100g'"
   ]
  },
  {
   "cell_type": "code",
   "execution_count": null,
   "metadata": {
    "id": "BYegLBPlhWLe"
   },
   "outputs": [],
   "source": [
    "nb_data_avant = data1.shape[0]"
   ]
  },
  {
   "cell_type": "code",
   "execution_count": null,
   "metadata": {
    "id": "Y9L1xRR2WP9Y"
   },
   "outputs": [],
   "source": [
    "data1[['nutriscore_grade', 'nutrition-score-fr_100g']].describe(include='all')"
   ]
  },
  {
   "cell_type": "code",
   "execution_count": null,
   "metadata": {
    "id": "ieJTacLj0B5A"
   },
   "outputs": [],
   "source": [
    "data1['indice_boissons'] = np.where(data1['pnns_groups_1_bis'] == 'Beverages', 'boissons', 'autres')"
   ]
  },
  {
   "cell_type": "code",
   "execution_count": null,
   "metadata": {
    "id": "W3SVhr3L4R-a"
   },
   "outputs": [],
   "source": [
    "pd.pivot_table(data=data1[['nutrition-score-fr_100g', 'nutriscore_grade','indice_boissons']],index=['indice_boissons', 'nutriscore_grade'])"
   ]
  },
  {
   "cell_type": "code",
   "execution_count": null,
   "metadata": {
    "id": "FP1S9Pse4Ryp"
   },
   "outputs": [],
   "source": [
    "pd.pivot_table(data1[['nutrition-score-fr_100g', 'nutriscore_grade','indice_boissons']], index=['indice_boissons', 'nutriscore_grade'], values='nutrition-score-fr_100g', aggfunc=[np.min, np.max])"
   ]
  },
  {
   "cell_type": "markdown",
   "metadata": {
    "id": "SQ9NjbGEWPnC"
   },
   "source": [
    "D'après le calcul du Nutriscore (https://fr.openfoodfacts.org/nutriscore), les relations qu'il y a entre le score de nutrition et le grade du nutriscore sont :\n",
    "\n",
    "Pour les produits hors boissons, \n",
    "\n",
    "* un score compris entre -15 (min) et -1 correspond à un grade A\n",
    "* un score compris entre 0 et 2 correspond à un grade B\n",
    "* un score compris entre 3 et 10 correspond à un grade C\n",
    "* un score compris entre 11 et 18 correspond à un grade D\n",
    "* un score compris entre 19 et 40 (max) correspond à un grade E\n",
    "\n",
    "Pour les boissons, \n",
    "\n",
    "* les eaux correspondent à un grade A\n",
    "* un score compris entre -15 (min) et 1 correspond à un grade B\n",
    "* un score compris entre 2 et 5 correspond à un grade C\n",
    "* un score compris entre 6 et 9 correspond à un grade D\n",
    "* un score compris entre 10 et 40 (max) correspond à un grade E\n",
    "\n",
    "On peut vérifier si les variables 'nutriscore_grade' et 'nutrition-score-fr_100g' concordent entre elles selon ces relations en supprimant les lignes comportant des erreurs.\n"
   ]
  },
  {
   "cell_type": "code",
   "execution_count": null,
   "metadata": {
    "id": "Uw5DXjTgSzWV"
   },
   "outputs": [],
   "source": [
    "## Pour les autres produits\n",
    "data1 = data1.drop(data1[(data1['indice_boissons'] == 'autres') & (data1['nutriscore_grade'] == 'a') & (data1['nutrition-score-fr_100g'] > -1)].index)\n",
    "data1 = data1.drop(data1[(data1['indice_boissons'] == 'autres') & (data1['nutriscore_grade'] == 'b') & (data1['nutrition-score-fr_100g'] < 0)].index)\n",
    "data1 = data1.drop(data1[(data1['indice_boissons'] == 'autres') & (data1['nutriscore_grade'] == 'c') & (data1['nutrition-score-fr_100g'] < 3)].index)\n",
    "data1 = data1.drop(data1[(data1['indice_boissons'] == 'autres') & (data1['nutriscore_grade'] == 'd') & (data1['nutrition-score-fr_100g'] < 11)].index)\n",
    "data1 = data1.drop(data1[(data1['indice_boissons'] == 'autres') & (data1['nutriscore_grade'] == 'e') & (data1['nutrition-score-fr_100g'] < 19)].index)"
   ]
  },
  {
   "cell_type": "code",
   "execution_count": null,
   "metadata": {
    "id": "otWiNUA-Dln6"
   },
   "outputs": [],
   "source": [
    "## Pour les boissons\n",
    "data1 = data1.drop(data1[(data1['pnns_groups_2'] == 'Waters and flavored waters') & (data1['nutriscore_grade'] != 'a')].index)\n",
    "data1 = data1.drop(data1[(data1['indice_boissons'] == 'boissons') & (data1['nutriscore_grade'] == 'b') & (data1['nutrition-score-fr_100g'] > 1)].index)\n",
    "data1 = data1.drop(data1[(data1['indice_boissons'] == 'boissons') & (data1['nutriscore_grade'] == 'c') & (data1['nutrition-score-fr_100g'] > 5)].index)\n",
    "data1 = data1.drop(data1[(data1['indice_boissons'] == 'boissons') & (data1['nutriscore_grade'] == 'd') & (data1['nutrition-score-fr_100g'] > 9)].index)\n",
    "data1 = data1.drop(data1[(data1['indice_boissons'] == 'boissons') & (data1['nutriscore_grade'] == 'e') & (data1['nutrition-score-fr_100g'] < 19)].index)"
   ]
  },
  {
   "cell_type": "code",
   "execution_count": null,
   "metadata": {
    "id": "veq6yuh-aegS"
   },
   "outputs": [],
   "source": [
    "sns.boxplot(x=\"nutriscore_grade\", y=\"nutrition-score-fr_100g\", data=data1[(data1['indice_boissons'] == 'boissons')])\n",
    "plt.title('Boxplot du score de nutrition en fonction nutriscore grade pour les Boissons')"
   ]
  },
  {
   "cell_type": "code",
   "execution_count": null,
   "metadata": {
    "id": "TSkOjKmdWmMa"
   },
   "outputs": [],
   "source": [
    "sns.boxplot(x=\"nutriscore_grade\", y=\"nutrition-score-fr_100g\", data=data1[(data1['indice_boissons'] == 'autres')])\n",
    "plt.title('Boxplot du score de nutrition en fonction nutriscore grade pour les produits hors Boisons')"
   ]
  },
  {
   "cell_type": "code",
   "execution_count": null,
   "metadata": {
    "id": "uZezLQR7ZtRL"
   },
   "outputs": [],
   "source": [
    "data1 = data1.dropna(how = 'all')"
   ]
  },
  {
   "cell_type": "code",
   "execution_count": null,
   "metadata": {
    "id": "sLiFWXZcl4gU"
   },
   "outputs": [],
   "source": [
    "info_nettoyage(data1)"
   ]
  },
  {
   "cell_type": "markdown",
   "metadata": {
    "id": "UaRPIs90YJ_P"
   },
   "source": [
    "# Sélection des données en fonction de leur taux de remplissage"
   ]
  },
  {
   "cell_type": "code",
   "execution_count": null,
   "metadata": {
    "id": "XqxsUBkAi8MV"
   },
   "outputs": [],
   "source": [
    "data1 = data1.dropna(how = 'all')\n",
    "data2 = data1.copy(deep=True)"
   ]
  },
  {
   "cell_type": "code",
   "execution_count": null,
   "metadata": {
    "id": "QGiTV9DkYJ_Q"
   },
   "outputs": [],
   "source": [
    "## Supprimer colonnes vides\n",
    "\n",
    "cols_vides = [col for col in data2.columns if data2[col].isnull().all()]\n",
    "cols_vides\n",
    "\n",
    "data2.drop(cols_vides,axis=1,inplace=True)"
   ]
  },
  {
   "cell_type": "code",
   "execution_count": null,
   "metadata": {
    "id": "NCu_LM0eYJ_U"
   },
   "outputs": [],
   "source": [
    "## Tableau du pourcentage de données présentes par colonne\n",
    "\n",
    "X = pd.DataFrame(100-data2.isnull().sum(axis = 0)/len(data2)*100, columns = [\"Pourcentage\"])\n",
    "X = X.sort_values(by = 'Pourcentage', ascending = False)\n",
    "X"
   ]
  },
  {
   "cell_type": "code",
   "execution_count": null,
   "metadata": {
    "id": "0k7GE4zvYJ_V"
   },
   "outputs": [],
   "source": [
    "## Histogramme du nombre de données présentes par colonne\n",
    "\n",
    "fig, ax = plt.subplots(figsize=(12,56))\n",
    "X['Pourcentage'].plot.barh(ax=ax, color='red')\n",
    "plt.gca().invert_yaxis()\n",
    "ax.set_title(\"Pourcentage de données présentes par colonne\", fontweight='bold')\n",
    "ax.xaxis.tick_top()\n",
    "for i, v in enumerate(X['Pourcentage'].astype(int)):\n",
    "    ax.text(v + 3, i + .25, str(v)+'%', color='red', fontweight='bold')"
   ]
  },
  {
   "cell_type": "code",
   "execution_count": null,
   "metadata": {
    "id": "72y0x7u0YJ_S"
   },
   "outputs": [],
   "source": [
    "graphe_donnees_manquantes(data2) "
   ]
  },
  {
   "cell_type": "markdown",
   "metadata": {
    "id": "XU3Y9zkJYJ_T"
   },
   "source": [
    "Les données sont encore très éparses avec des colonnes quasiment vides. Le dataset est très vide et peu renseigné avec 66.7% de données manquantes. Comme 1er tri des données, on peut supprimer toutes les colonnes composées de moins de **X%** de données présentes. Ces variables ne peuvent être exploitées dans l'analyse au vu de la pauvreté des informations présentes."
   ]
  },
  {
   "cell_type": "markdown",
   "metadata": {
    "id": "Gz4dFEZVYJ_U"
   },
   "source": [
    "## Choix du seuil X"
   ]
  },
  {
   "cell_type": "code",
   "execution_count": null,
   "metadata": {
    "id": "b7tB60ToYJ_V"
   },
   "outputs": [],
   "source": [
    "## Tableau du nombre de colonnes par intervalle de pourcentage de données présentes\n",
    "\n",
    "X_intervalles = ['[0-10[', '[10-20[', '[20-30[', '[30-40[', '[40-50[', '[50-60[', '[60-70[', '[70-80[', '[80-90[', '[90-100]']\n",
    "Y = [len(X[(X['Pourcentage']<10)])]\n",
    "\n",
    "def condition(X, inf, sup):\n",
    "  return len(X[(X['Pourcentage']>=inf) & (X['Pourcentage']<sup)])\n",
    "\n",
    "for a in range(10, 90, 10):\n",
    "  b=a+10\n",
    "  Y.append(condition(X, a, b))\n",
    "\n",
    "Y.append(len(X[(X['Pourcentage']>=90)]))\n",
    "\n",
    "df = pd.DataFrame({'Intervalle des pourcentages de données présentes': X_intervalles, 'Nombres de colonnes': Y})\n",
    "df"
   ]
  },
  {
   "cell_type": "code",
   "execution_count": null,
   "metadata": {
    "id": "XbLn5R_CYJ_W"
   },
   "outputs": [],
   "source": [
    "## Histogramme pour choisir le seuil X\n",
    "\n",
    "Y1 = list(reversed(Y))\n",
    "nombre_colonnes_y = np.cumsum(Y1)\n",
    "pourcentage_x = ['>90', '>80', '>70', '>60', '>50', '>40', '>30', '>20', '>10', '>0']\n",
    "\n",
    "fig, ax = plt.subplots(1, figsize=(8, 5))\n",
    "width = 0.75\n",
    "\n",
    "ind = np.arange(len(nombre_colonnes_y))\n",
    "ax.bar(ind, nombre_colonnes_y, width, color=\"red\", align=\"center\")\n",
    "\n",
    "ax.set_xticks(ind+width/10)\n",
    "ax.set_xticklabels(pourcentage_x, minor=False)\n",
    "\n",
    "for i, v in enumerate(nombre_colonnes_y):\n",
    "  ax.text((i-1)+0.8, nombre_colonnes_y[i]+1.5, str(v), color='black', fontweight='bold')\n",
    "  ax.text((i-1)+0.8, nombre_colonnes_y[i]+10, str(str(int(v/144*100))+'%'), color='black', fontweight='bold')\n",
    "\n",
    "ax.set(xlabel='Pourcentage minimum de données présentes dans une colonne', ylabel='Nombre de colonnes sur 144')\n",
    "plt.title('Histogramme du choix du seuil')\n",
    "\n",
    "plt.show()"
   ]
  },
  {
   "cell_type": "code",
   "execution_count": null,
   "metadata": {
    "id": "OdEumFv3YJ_X"
   },
   "outputs": [],
   "source": [
    "print(\"En moyenne, les colonnes ont\", int(X['Pourcentage'].mean()), \"% de données présentes, plus ou moins\", int(X['Pourcentage'].std(ddof=0)), \"%\")"
   ]
  },
  {
   "cell_type": "markdown",
   "metadata": {
    "id": "vP-asGdrYJ_X"
   },
   "source": [
    "On obtient sur les 184 colonnes présentes dans le DataFrame :\n",
    "* 152 colonnes (ie 100% des colonnes) ont plus de 0% de données présentes (ce qui est normal)\n",
    "* 67 colonnes (ie 46% des colonnes) ont plus de 10% de données présentes\n",
    "* 63 colonnes (ie 43% des colonnes) ont plus de 20% de données présentes\n",
    "* 59 colonnes (ie 40% des colonnes) ont plus de 30% de données présentes\n",
    "\n",
    "Grâce à ce graphique, on peut prendre la décision d'un seuil X de tri pour éliminer les colonnes contenant trop de données manquantes. \n",
    "\n",
    "On prend **X = 10%**"
   ]
  },
  {
   "cell_type": "code",
   "execution_count": null,
   "metadata": {
    "id": "Xgbbjqm-YJ_Y"
   },
   "outputs": [],
   "source": [
    "## Suppression des colonnes\n",
    "seuil = 10\n",
    "\n",
    "colonnes_a_supprimer = list(X[X[\"Pourcentage\"] < seuil].index)\n",
    "\n",
    "data2 = data2.drop(columns=colonnes_a_supprimer)\n",
    "print(len(colonnes_a_supprimer), \"colonnes ont été supprimées.\")\n",
    "\n",
    "data2 = data2.dropna(how = 'all')"
   ]
  },
  {
   "cell_type": "code",
   "execution_count": null,
   "metadata": {
    "id": "YppqBcVg_cnQ"
   },
   "outputs": [],
   "source": [
    "info_nettoyage(data2)"
   ]
  },
  {
   "cell_type": "code",
   "execution_count": null,
   "metadata": {
    "id": "Nc9aZ5QW2Fjy"
   },
   "outputs": [],
   "source": [
    "## Graphe des données manquantes du nouveau DataFrame data3\n",
    "graphe_donnees_manquantes(data2)"
   ]
  },
  {
   "cell_type": "markdown",
   "metadata": {
    "id": "C37WKB8rYJ_Z"
   },
   "source": [
    "Avec un seuil de 90%, on a un DataFrame avec : \n",
    "* 85 colonnes supprimées par rapport au DataFrame initial\n",
    "* 25.1% de données manquantes\n",
    "* 67 colonnes restantes par rapport au DataFrame initial"
   ]
  },
  {
   "cell_type": "markdown",
   "metadata": {
    "id": "7qvnEsoMb_8J"
   },
   "source": [
    "# Sélection des variables"
   ]
  },
  {
   "cell_type": "code",
   "execution_count": null,
   "metadata": {
    "id": "YlKLTGvCF9f_"
   },
   "outputs": [],
   "source": [
    "print(data2['brands'].isnull().sum(axis = 0))"
   ]
  },
  {
   "cell_type": "code",
   "execution_count": null,
   "metadata": {
    "id": "Kf6M_hmzou9p"
   },
   "outputs": [],
   "source": [
    "nb_data_avant = data2.shape[0]"
   ]
  },
  {
   "cell_type": "code",
   "execution_count": null,
   "metadata": {
    "id": "tqNAwPWMcHBe"
   },
   "outputs": [],
   "source": [
    "list(data2.columns)"
   ]
  },
  {
   "cell_type": "markdown",
   "metadata": {
    "id": "bDDNL6MfchGi"
   },
   "source": [
    "La liste initiale des variables utiles a été modifiée"
   ]
  },
  {
   "cell_type": "code",
   "execution_count": null,
   "metadata": {
    "id": "l8n2yDLocwDR"
   },
   "outputs": [],
   "source": [
    "colonnes_utiles = ['brands_tags','code', 'url', 'last_modified_t', 'product_name', 'additives_n', 'allergens_n','nutriscore_grade', 'nova_group', 'pnns_groups_1_bis', 'pnns_groups_2'] + [x for x in list(data2.columns)  if (x.endswith('_100g'))]\n",
    "colonnes_utiles"
   ]
  },
  {
   "cell_type": "code",
   "execution_count": null,
   "metadata": {
    "id": "hoVyDtVnesXI"
   },
   "outputs": [],
   "source": [
    "data3 = data2[colonnes_utiles]\n",
    "data3 = data3.dropna(how = 'all')"
   ]
  },
  {
   "cell_type": "code",
   "execution_count": null,
   "metadata": {
    "id": "zgX-s5gFYJ_Y"
   },
   "outputs": [],
   "source": [
    "## Graphe des données manquantes du nouveau DataFrame data4\n",
    "graphe_donnees_manquantes(data3)"
   ]
  },
  {
   "cell_type": "code",
   "execution_count": null,
   "metadata": {
    "id": "lP4DehMcfmZ5"
   },
   "outputs": [],
   "source": [
    "info_nettoyage(data3)"
   ]
  },
  {
   "cell_type": "markdown",
   "metadata": {
    "id": "8mDR0MY-POTf"
   },
   "source": [
    "# Doublons"
   ]
  },
  {
   "cell_type": "code",
   "execution_count": null,
   "metadata": {
    "id": "wo8_Zw2smGSJ"
   },
   "outputs": [],
   "source": [
    "nb_data_avant = data3.shape[0]"
   ]
  },
  {
   "cell_type": "code",
   "execution_count": null,
   "metadata": {
    "id": "_FkuB-Vhr1u-"
   },
   "outputs": [],
   "source": [
    "data3['product_name'] = data3['product_name'].str.lower()\n",
    "data3['product_name'] = data3['product_name'].str.normalize('NFKD').str.encode('ascii', errors='ignore').str.decode('utf-8')"
   ]
  },
  {
   "cell_type": "code",
   "execution_count": null,
   "metadata": {
    "id": "HtsQE5HgzJOo"
   },
   "outputs": [],
   "source": [
    "data3['product_name'] = data3['product_name'].astype(str)\n",
    "data3['taille_nom_product'] = data3['product_name'].map(len)\n",
    "data3 = data3[(np.invert(data3[['taille_nom_product']] <= 1)).all(axis=1)]"
   ]
  },
  {
   "cell_type": "code",
   "execution_count": null,
   "metadata": {
    "id": "_rPGZvGQlLZw"
   },
   "outputs": [],
   "source": [
    "data3[['code', 'url', 'product_name']].head(8)"
   ]
  },
  {
   "cell_type": "code",
   "execution_count": null,
   "metadata": {
    "id": "YknlRWDpw-J8"
   },
   "outputs": [],
   "source": [
    "data4 = data3.copy(deep=True)\n",
    "nb_data_avant = data4.shape[0]"
   ]
  },
  {
   "cell_type": "code",
   "execution_count": null,
   "metadata": {
    "id": "GYKQTV1ZIj6F"
   },
   "outputs": [],
   "source": [
    "data4['brands_tags'] = data4['brands_tags'].str.lower()\n",
    "data4['brands_tags'] = data4['brands_tags'].str.normalize('NFKD').str.encode('ascii', errors='ignore').str.decode('utf-8')"
   ]
  },
  {
   "cell_type": "code",
   "execution_count": null,
   "metadata": {
    "id": "AgktX9T9JD_U"
   },
   "outputs": [],
   "source": [
    "data4['brands_tags'].describe(include='all')"
   ]
  },
  {
   "cell_type": "code",
   "execution_count": null,
   "metadata": {
    "id": "tM83KvUchCNQ"
   },
   "outputs": [],
   "source": [
    "## Supprimer les doublons en fonction du code-barre en gardant la ligne du produit la plus récente\n",
    "data4 = data4.sort_values('last_modified_t', ascending=False).drop_duplicates('code', keep='first').sort_index().reset_index(drop=True)"
   ]
  },
  {
   "cell_type": "code",
   "execution_count": null,
   "metadata": {
    "id": "IqRH7RK0yQEK"
   },
   "outputs": [],
   "source": [
    "## Supprimer les doublons en fonction de l'url en gardant la ligne du produit la plus récente\n",
    "data4 = data4.sort_values('last_modified_t', ascending=False).drop_duplicates('url', keep='first').sort_index().reset_index(drop=True)"
   ]
  },
  {
   "cell_type": "code",
   "execution_count": null,
   "metadata": {
    "id": "0dgsD8669v77"
   },
   "outputs": [],
   "source": [
    "## Supprimer les doublons en fonction du nom du produit en gardant la ligne du produit la plus récente\n",
    "data4 = data4.sort_values('last_modified_t', ascending=False).drop_duplicates(subset=['product_name', 'brands_tags'], keep='first').sort_index().reset_index(drop=True)"
   ]
  },
  {
   "cell_type": "code",
   "execution_count": null,
   "metadata": {
    "id": "9uDgEtgvxhpC"
   },
   "outputs": [],
   "source": [
    "info_nettoyage(data4)"
   ]
  },
  {
   "cell_type": "code",
   "execution_count": null,
   "metadata": {
    "id": "WTCwg2KypWw5"
   },
   "outputs": [],
   "source": [
    "data4.drop(['url', 'last_modified_t', 'taille_nom_product', 'brands_tags'], axis = 1, inplace = True)"
   ]
  },
  {
   "cell_type": "markdown",
   "metadata": {
    "id": "1ZbbQV8UUm7-"
   },
   "source": [
    "# Remplacer les cases vides des nutriments, des additifs et des allergènes par 0"
   ]
  },
  {
   "cell_type": "code",
   "execution_count": null,
   "metadata": {
    "id": "eAbspJdKH463"
   },
   "outputs": [],
   "source": [
    "nb_data_avant = data4.shape[0]"
   ]
  },
  {
   "cell_type": "code",
   "execution_count": null,
   "metadata": {
    "id": "0xLiTxMfW_Am"
   },
   "outputs": [],
   "source": [
    "print(data4.columns)"
   ]
  },
  {
   "cell_type": "markdown",
   "metadata": {
    "id": "Wr_GwtGcUm8K"
   },
   "source": [
    "On fait l'hypothèse que les données manquantes des variables des nutriments, du nombre d'additifs et du nombre d'allergènes ne correspondent pas à des données non renseignées mais à l'absence d'additif, d'allergène et de nutriment dans le produit.\n",
    "\n",
    "On se place dans le cadre de cette hypothèse en remplaçant toutes les données manquantes pour ces variables par 0."
   ]
  },
  {
   "cell_type": "code",
   "execution_count": null,
   "metadata": {
    "id": "UvAIHoJaUm8J"
   },
   "outputs": [],
   "source": [
    "colonnes_0 = ['allergens_n', 'additives_n']  + [x for x in list(data4.columns) if (x.endswith('_100g') and x not in (['energy_100g', 'nutrition-score-fr_100g']))]\n",
    "colonnes_0"
   ]
  },
  {
   "cell_type": "code",
   "execution_count": null,
   "metadata": {
    "id": "KMZ-8lsO9tI0"
   },
   "outputs": [],
   "source": [
    "data5 = data4.copy(deep=True)"
   ]
  },
  {
   "cell_type": "code",
   "execution_count": null,
   "metadata": {
    "id": "5J41Zl2oUm8K"
   },
   "outputs": [],
   "source": [
    "data5[colonnes_0].describe(include = 'all')"
   ]
  },
  {
   "cell_type": "code",
   "execution_count": null,
   "metadata": {
    "id": "csTwxKOwUm8K"
   },
   "outputs": [],
   "source": [
    "for i in range(len(colonnes_0)):\n",
    "  data5[colonnes_0[i]] = data5[colonnes_0[i]].replace(np.nan, 0)"
   ]
  },
  {
   "cell_type": "code",
   "execution_count": null,
   "metadata": {
    "id": "eZU7MC0MUm8K"
   },
   "outputs": [],
   "source": [
    "print(data5[colonnes_0].isnull().sum(axis = 0))"
   ]
  },
  {
   "cell_type": "code",
   "execution_count": null,
   "metadata": {
    "id": "GO7dGSVXUm8L"
   },
   "outputs": [],
   "source": [
    "data5[colonnes_0].describe(include = 'all')"
   ]
  },
  {
   "cell_type": "code",
   "execution_count": null,
   "metadata": {
    "id": "A6NIa6o2hAGW"
   },
   "outputs": [],
   "source": [
    "## Graphe des données manquantes du nouveau DataFrame data3\n",
    "graphe_donnees_manquantes(data5)"
   ]
  },
  {
   "cell_type": "code",
   "execution_count": null,
   "metadata": {
    "id": "Y_nkngfJHrXn"
   },
   "outputs": [],
   "source": [
    "info_nettoyage(data5)"
   ]
  },
  {
   "cell_type": "markdown",
   "metadata": {
    "id": "BCj73HsV3cIu"
   },
   "source": [
    "# Outliers"
   ]
  },
  {
   "cell_type": "code",
   "execution_count": null,
   "metadata": {
    "id": "PSP5yByi9_gY"
   },
   "outputs": [],
   "source": [
    "print(data5.columns)"
   ]
  },
  {
   "cell_type": "markdown",
   "metadata": {
    "id": "AcrRGOLddHtm"
   },
   "source": [
    "## Variables qualitatives"
   ]
  },
  {
   "cell_type": "code",
   "execution_count": null,
   "metadata": {
    "id": "EbH36eZXXS9G"
   },
   "outputs": [],
   "source": [
    "VAR_quali = ['nutriscore_grade', 'nova_group', 'pnns_groups_1_bis', 'pnns_groups_2']"
   ]
  },
  {
   "cell_type": "code",
   "execution_count": null,
   "metadata": {
    "id": "x2YAmEI4cm4G"
   },
   "outputs": [],
   "source": [
    "data5[VAR_quali] = data5[VAR_quali].astype('category')"
   ]
  },
  {
   "cell_type": "code",
   "execution_count": null,
   "metadata": {
    "id": "NciSM1Wjcc89"
   },
   "outputs": [],
   "source": [
    "data5[VAR_quali].describe(include='all')"
   ]
  },
  {
   "cell_type": "markdown",
   "metadata": {
    "id": "qvcgn1_adLX8"
   },
   "source": [
    "## Variables quantitatives"
   ]
  },
  {
   "cell_type": "code",
   "execution_count": null,
   "metadata": {
    "id": "aUw7dOXV8qjG"
   },
   "outputs": [],
   "source": [
    "# VAR_numeric = data3.select_dtypes(include=[np.number])\n",
    "VAR_numeric = ['additives_n', 'allergens_n', 'energy_100g','nutrition-score-fr_100g',\n",
    "               'fat_100g', 'saturated-fat_100g', 'carbohydrates_100g', 'sugars_100g','fiber_100g', 'proteins_100g', 'salt_100g', 'sodium_100g']"
   ]
  },
  {
   "cell_type": "code",
   "execution_count": null,
   "metadata": {
    "id": "1moshV0uOISe"
   },
   "outputs": [],
   "source": [
    "sns.distplot(data5['additives_n'], bins = 6, kde = False)\n",
    "plt.yscale('log')"
   ]
  },
  {
   "cell_type": "code",
   "execution_count": null,
   "metadata": {
    "id": "eGL8fxPtPAnM"
   },
   "outputs": [],
   "source": [
    "sns.distplot(data5['allergens_n'], bins = 6, kde = False)\n",
    "plt.yscale('log')"
   ]
  },
  {
   "cell_type": "code",
   "execution_count": null,
   "metadata": {
    "id": "c3f9-8pizxdn"
   },
   "outputs": [],
   "source": [
    "sns.set_theme(style=\"whitegrid\")\n",
    "sns.boxplot(x=data5['energy_100g'])"
   ]
  },
  {
   "cell_type": "code",
   "execution_count": null,
   "metadata": {
    "id": "TPU5eWrIEyAN"
   },
   "outputs": [],
   "source": [
    "info_nutriments = VAR_numeric[4:11]"
   ]
  },
  {
   "cell_type": "code",
   "execution_count": null,
   "metadata": {
    "id": "5ae2lO_gktfo"
   },
   "outputs": [],
   "source": [
    "plt.figure(figsize = [15,7])\n",
    "sns.boxplot(x=\"variable\", y=\"value\", data=data5[info_nutriments].melt())\n",
    "plt.title(\"Boxplot des variables nutritionnelles\")\n",
    "plt.xticks(rotation = 90);\n",
    "plt.show()"
   ]
  },
  {
   "cell_type": "code",
   "execution_count": null,
   "metadata": {
    "id": "IJ9AibikiL__"
   },
   "outputs": [],
   "source": [
    "data5[info_nutriments].describe(include='all')"
   ]
  },
  {
   "cell_type": "markdown",
   "metadata": {
    "id": "WEBz8pbnfcjD"
   },
   "source": [
    "# Exportation du jeu de données final"
   ]
  },
  {
   "cell_type": "code",
   "execution_count": null,
   "metadata": {
    "id": "ppPZpXW5ITOX"
   },
   "outputs": [],
   "source": [
    "nb_data_avant = data5.shape[0]"
   ]
  },
  {
   "cell_type": "code",
   "execution_count": null,
   "metadata": {
    "id": "AISUSjdzfcjM"
   },
   "outputs": [],
   "source": [
    "data5.info()"
   ]
  },
  {
   "cell_type": "code",
   "execution_count": null,
   "metadata": {
    "id": "jiVEdW8RfcjM"
   },
   "outputs": [],
   "source": [
    "print(\"nombre de dimensions de data: \", data5.ndim)\n",
    "print(\"forme de data: \", data5.shape)\n",
    "print(\"taille de data: \", data5.size)"
   ]
  },
  {
   "cell_type": "code",
   "execution_count": null,
   "metadata": {
    "id": "OAxVnm3MfcjM"
   },
   "outputs": [],
   "source": [
    "data5.head(5)"
   ]
  },
  {
   "cell_type": "code",
   "execution_count": null,
   "metadata": {
    "id": "oeUGd9VGfcjN"
   },
   "outputs": [],
   "source": [
    "graphe_donnees_manquantes(data5) "
   ]
  },
  {
   "cell_type": "code",
   "execution_count": null,
   "metadata": {
    "id": "3XD5kG-dPbVn"
   },
   "outputs": [],
   "source": [
    "info_nettoyage(data5)"
   ]
  },
  {
   "cell_type": "code",
   "execution_count": null,
   "metadata": {
    "id": "VuLb5I0kfcjO"
   },
   "outputs": [],
   "source": [
    "# data5.to_csv('clean_nutri_data.csv', encoding='utf_8', index=False)\n",
    "data5.to_csv('en.openfoodfacts.org.products_clean.csv', sep = '\\t')\n",
    "files.download('en.openfoodfacts.org.products_clean.csv')"
   ]
  }
 ],
 "metadata": {
  "colab": {
   "collapsed_sections": [],
   "name": "PSanté_01_notebooknettoyage.ipynb",
   "provenance": []
  },
  "kernelspec": {
   "display_name": "Python 3",
   "language": "python",
   "name": "python3"
  },
  "language_info": {
   "codemirror_mode": {
    "name": "ipython",
    "version": 3
   },
   "file_extension": ".py",
   "mimetype": "text/x-python",
   "name": "python",
   "nbconvert_exporter": "python",
   "pygments_lexer": "ipython3",
   "version": "3.8.5"
  }
 },
 "nbformat": 4,
 "nbformat_minor": 1
}
